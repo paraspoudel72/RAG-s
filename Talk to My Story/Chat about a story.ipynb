{
  "nbformat": 4,
  "nbformat_minor": 0,
  "metadata": {
    "colab": {
      "provenance": []
    },
    "kernelspec": {
      "name": "python3",
      "display_name": "Python 3"
    },
    "language_info": {
      "name": "python"
    }
  },
  "cells": [
    {
      "cell_type": "code",
      "source": [
        "from google.colab import userdata\n",
        "import os\n",
        "from google.colab import drive\n",
        "drive.mount('/content/drive')\n",
        "os.environ[\"NVIDIA_API_KEY\"] = userdata.get('NVIDIA_API_KEY')"
      ],
      "metadata": {
        "colab": {
          "base_uri": "https://localhost:8080/"
        },
        "id": "bDE77b7A2xaV",
        "outputId": "effb9ad0-5700-4dce-9b20-b1764927497c"
      },
      "execution_count": 1,
      "outputs": [
        {
          "output_type": "stream",
          "name": "stdout",
          "text": [
            "Drive already mounted at /content/drive; to attempt to forcibly remount, call drive.mount(\"/content/drive\", force_remount=True).\n"
          ]
        }
      ]
    },
    {
      "cell_type": "code",
      "source": [
        "# !pip install virtualenv\n",
        "# !virtualenv /content/drive/MyDrive/colab_env\n",
        "!source /content/drive/MyDrive/colab_env/bin/activate"
      ],
      "metadata": {
        "id": "7-Rs-AES4Asc"
      },
      "execution_count": 2,
      "outputs": []
    },
    {
      "cell_type": "code",
      "source": [
        "!pip install  langchain-nvidia-ai-endpoints\n",
        "!pip install  langchain\n",
        "!pip install  gradio\n",
        "!pip install  openai"
      ],
      "metadata": {
        "colab": {
          "base_uri": "https://localhost:8080/",
          "height": 1000
        },
        "id": "VPsC1WvB3Tam",
        "outputId": "fd778b75-7b7f-4fa6-d56b-7c1138f94fa2"
      },
      "execution_count": 3,
      "outputs": [
        {
          "output_type": "stream",
          "name": "stdout",
          "text": [
            "Collecting langchain-nvidia-ai-endpoints\n",
            "  Downloading langchain_nvidia_ai_endpoints-0.1.1-py3-none-any.whl (31 kB)\n",
            "Requirement already satisfied: aiohttp<4.0.0,>=3.9.1 in /usr/local/lib/python3.10/dist-packages (from langchain-nvidia-ai-endpoints) (3.9.5)\n",
            "Collecting langchain-core<0.3,>=0.1.27 (from langchain-nvidia-ai-endpoints)\n",
            "  Downloading langchain_core-0.2.5-py3-none-any.whl (314 kB)\n",
            "\u001b[2K     \u001b[90m━━━━━━━━━━━━━━━━━━━━━━━━━━━━━━━━━━━━━━━━\u001b[0m \u001b[32m314.7/314.7 kB\u001b[0m \u001b[31m8.3 MB/s\u001b[0m eta \u001b[36m0:00:00\u001b[0m\n",
            "\u001b[?25hCollecting pillow<11.0.0,>=10.0.0 (from langchain-nvidia-ai-endpoints)\n",
            "  Downloading pillow-10.3.0-cp310-cp310-manylinux_2_28_x86_64.whl (4.5 MB)\n",
            "\u001b[2K     \u001b[90m━━━━━━━━━━━━━━━━━━━━━━━━━━━━━━━━━━━━━━━━\u001b[0m \u001b[32m4.5/4.5 MB\u001b[0m \u001b[31m45.3 MB/s\u001b[0m eta \u001b[36m0:00:00\u001b[0m\n",
            "\u001b[?25hRequirement already satisfied: aiosignal>=1.1.2 in /usr/local/lib/python3.10/dist-packages (from aiohttp<4.0.0,>=3.9.1->langchain-nvidia-ai-endpoints) (1.3.1)\n",
            "Requirement already satisfied: attrs>=17.3.0 in /usr/local/lib/python3.10/dist-packages (from aiohttp<4.0.0,>=3.9.1->langchain-nvidia-ai-endpoints) (23.2.0)\n",
            "Requirement already satisfied: frozenlist>=1.1.1 in /usr/local/lib/python3.10/dist-packages (from aiohttp<4.0.0,>=3.9.1->langchain-nvidia-ai-endpoints) (1.4.1)\n",
            "Requirement already satisfied: multidict<7.0,>=4.5 in /usr/local/lib/python3.10/dist-packages (from aiohttp<4.0.0,>=3.9.1->langchain-nvidia-ai-endpoints) (6.0.5)\n",
            "Requirement already satisfied: yarl<2.0,>=1.0 in /usr/local/lib/python3.10/dist-packages (from aiohttp<4.0.0,>=3.9.1->langchain-nvidia-ai-endpoints) (1.9.4)\n",
            "Requirement already satisfied: async-timeout<5.0,>=4.0 in /usr/local/lib/python3.10/dist-packages (from aiohttp<4.0.0,>=3.9.1->langchain-nvidia-ai-endpoints) (4.0.3)\n",
            "Requirement already satisfied: PyYAML>=5.3 in /usr/local/lib/python3.10/dist-packages (from langchain-core<0.3,>=0.1.27->langchain-nvidia-ai-endpoints) (6.0.1)\n",
            "Collecting jsonpatch<2.0,>=1.33 (from langchain-core<0.3,>=0.1.27->langchain-nvidia-ai-endpoints)\n",
            "  Downloading jsonpatch-1.33-py2.py3-none-any.whl (12 kB)\n",
            "Collecting langsmith<0.2.0,>=0.1.66 (from langchain-core<0.3,>=0.1.27->langchain-nvidia-ai-endpoints)\n",
            "  Downloading langsmith-0.1.75-py3-none-any.whl (124 kB)\n",
            "\u001b[2K     \u001b[90m━━━━━━━━━━━━━━━━━━━━━━━━━━━━━━━━━━━━━━━━\u001b[0m \u001b[32m124.9/124.9 kB\u001b[0m \u001b[31m15.2 MB/s\u001b[0m eta \u001b[36m0:00:00\u001b[0m\n",
            "\u001b[?25hCollecting packaging<24.0,>=23.2 (from langchain-core<0.3,>=0.1.27->langchain-nvidia-ai-endpoints)\n",
            "  Downloading packaging-23.2-py3-none-any.whl (53 kB)\n",
            "\u001b[2K     \u001b[90m━━━━━━━━━━━━━━━━━━━━━━━━━━━━━━━━━━━━━━━━\u001b[0m \u001b[32m53.0/53.0 kB\u001b[0m \u001b[31m5.8 MB/s\u001b[0m eta \u001b[36m0:00:00\u001b[0m\n",
            "\u001b[?25hRequirement already satisfied: pydantic<3,>=1 in /usr/local/lib/python3.10/dist-packages (from langchain-core<0.3,>=0.1.27->langchain-nvidia-ai-endpoints) (2.7.3)\n",
            "Requirement already satisfied: tenacity<9.0.0,>=8.1.0 in /usr/local/lib/python3.10/dist-packages (from langchain-core<0.3,>=0.1.27->langchain-nvidia-ai-endpoints) (8.3.0)\n",
            "Collecting jsonpointer>=1.9 (from jsonpatch<2.0,>=1.33->langchain-core<0.3,>=0.1.27->langchain-nvidia-ai-endpoints)\n",
            "  Downloading jsonpointer-2.4-py2.py3-none-any.whl (7.8 kB)\n",
            "Collecting orjson<4.0.0,>=3.9.14 (from langsmith<0.2.0,>=0.1.66->langchain-core<0.3,>=0.1.27->langchain-nvidia-ai-endpoints)\n",
            "  Downloading orjson-3.10.3-cp310-cp310-manylinux_2_17_x86_64.manylinux2014_x86_64.whl (142 kB)\n",
            "\u001b[2K     \u001b[90m━━━━━━━━━━━━━━━━━━━━━━━━━━━━━━━━━━━━━━━━\u001b[0m \u001b[32m142.5/142.5 kB\u001b[0m \u001b[31m16.1 MB/s\u001b[0m eta \u001b[36m0:00:00\u001b[0m\n",
            "\u001b[?25hRequirement already satisfied: requests<3,>=2 in /usr/local/lib/python3.10/dist-packages (from langsmith<0.2.0,>=0.1.66->langchain-core<0.3,>=0.1.27->langchain-nvidia-ai-endpoints) (2.31.0)\n",
            "Requirement already satisfied: annotated-types>=0.4.0 in /usr/local/lib/python3.10/dist-packages (from pydantic<3,>=1->langchain-core<0.3,>=0.1.27->langchain-nvidia-ai-endpoints) (0.7.0)\n",
            "Requirement already satisfied: pydantic-core==2.18.4 in /usr/local/lib/python3.10/dist-packages (from pydantic<3,>=1->langchain-core<0.3,>=0.1.27->langchain-nvidia-ai-endpoints) (2.18.4)\n",
            "Requirement already satisfied: typing-extensions>=4.6.1 in /usr/local/lib/python3.10/dist-packages (from pydantic<3,>=1->langchain-core<0.3,>=0.1.27->langchain-nvidia-ai-endpoints) (4.12.1)\n",
            "Requirement already satisfied: idna>=2.0 in /usr/local/lib/python3.10/dist-packages (from yarl<2.0,>=1.0->aiohttp<4.0.0,>=3.9.1->langchain-nvidia-ai-endpoints) (3.7)\n",
            "Requirement already satisfied: charset-normalizer<4,>=2 in /usr/local/lib/python3.10/dist-packages (from requests<3,>=2->langsmith<0.2.0,>=0.1.66->langchain-core<0.3,>=0.1.27->langchain-nvidia-ai-endpoints) (3.3.2)\n",
            "Requirement already satisfied: urllib3<3,>=1.21.1 in /usr/local/lib/python3.10/dist-packages (from requests<3,>=2->langsmith<0.2.0,>=0.1.66->langchain-core<0.3,>=0.1.27->langchain-nvidia-ai-endpoints) (2.0.7)\n",
            "Requirement already satisfied: certifi>=2017.4.17 in /usr/local/lib/python3.10/dist-packages (from requests<3,>=2->langsmith<0.2.0,>=0.1.66->langchain-core<0.3,>=0.1.27->langchain-nvidia-ai-endpoints) (2024.6.2)\n",
            "Installing collected packages: pillow, packaging, orjson, jsonpointer, jsonpatch, langsmith, langchain-core, langchain-nvidia-ai-endpoints\n",
            "  Attempting uninstall: pillow\n",
            "    Found existing installation: Pillow 9.4.0\n",
            "    Uninstalling Pillow-9.4.0:\n",
            "      Successfully uninstalled Pillow-9.4.0\n",
            "  Attempting uninstall: packaging\n",
            "    Found existing installation: packaging 24.0\n",
            "    Uninstalling packaging-24.0:\n",
            "      Successfully uninstalled packaging-24.0\n",
            "\u001b[31mERROR: pip's dependency resolver does not currently take into account all the packages that are installed. This behaviour is the source of the following dependency conflicts.\n",
            "imageio 2.31.6 requires pillow<10.1.0,>=8.3.2, but you have pillow 10.3.0 which is incompatible.\u001b[0m\u001b[31m\n",
            "\u001b[0mSuccessfully installed jsonpatch-1.33 jsonpointer-2.4 langchain-core-0.2.5 langchain-nvidia-ai-endpoints-0.1.1 langsmith-0.1.75 orjson-3.10.3 packaging-23.2 pillow-10.3.0\n"
          ]
        },
        {
          "output_type": "display_data",
          "data": {
            "application/vnd.colab-display-data+json": {
              "pip_warning": {
                "packages": [
                  "PIL"
                ]
              },
              "id": "4b71ebb972bb4c2889f3a6462cb577ab"
            }
          },
          "metadata": {}
        },
        {
          "output_type": "stream",
          "name": "stdout",
          "text": [
            "Collecting langchain\n",
            "  Downloading langchain-0.2.3-py3-none-any.whl (974 kB)\n",
            "\u001b[2K     \u001b[90m━━━━━━━━━━━━━━━━━━━━━━━━━━━━━━━━━━━━━━━━\u001b[0m \u001b[32m974.0/974.0 kB\u001b[0m \u001b[31m12.2 MB/s\u001b[0m eta \u001b[36m0:00:00\u001b[0m\n",
            "\u001b[?25hRequirement already satisfied: PyYAML>=5.3 in /usr/local/lib/python3.10/dist-packages (from langchain) (6.0.1)\n",
            "Requirement already satisfied: SQLAlchemy<3,>=1.4 in /usr/local/lib/python3.10/dist-packages (from langchain) (2.0.30)\n",
            "Requirement already satisfied: aiohttp<4.0.0,>=3.8.3 in /usr/local/lib/python3.10/dist-packages (from langchain) (3.9.5)\n",
            "Requirement already satisfied: async-timeout<5.0.0,>=4.0.0 in /usr/local/lib/python3.10/dist-packages (from langchain) (4.0.3)\n",
            "Requirement already satisfied: langchain-core<0.3.0,>=0.2.0 in /usr/local/lib/python3.10/dist-packages (from langchain) (0.2.5)\n",
            "Collecting langchain-text-splitters<0.3.0,>=0.2.0 (from langchain)\n",
            "  Downloading langchain_text_splitters-0.2.1-py3-none-any.whl (23 kB)\n",
            "Requirement already satisfied: langsmith<0.2.0,>=0.1.17 in /usr/local/lib/python3.10/dist-packages (from langchain) (0.1.75)\n",
            "Requirement already satisfied: numpy<2,>=1 in /usr/local/lib/python3.10/dist-packages (from langchain) (1.25.2)\n",
            "Requirement already satisfied: pydantic<3,>=1 in /usr/local/lib/python3.10/dist-packages (from langchain) (2.7.3)\n",
            "Requirement already satisfied: requests<3,>=2 in /usr/local/lib/python3.10/dist-packages (from langchain) (2.31.0)\n",
            "Requirement already satisfied: tenacity<9.0.0,>=8.1.0 in /usr/local/lib/python3.10/dist-packages (from langchain) (8.3.0)\n",
            "Requirement already satisfied: aiosignal>=1.1.2 in /usr/local/lib/python3.10/dist-packages (from aiohttp<4.0.0,>=3.8.3->langchain) (1.3.1)\n",
            "Requirement already satisfied: attrs>=17.3.0 in /usr/local/lib/python3.10/dist-packages (from aiohttp<4.0.0,>=3.8.3->langchain) (23.2.0)\n",
            "Requirement already satisfied: frozenlist>=1.1.1 in /usr/local/lib/python3.10/dist-packages (from aiohttp<4.0.0,>=3.8.3->langchain) (1.4.1)\n",
            "Requirement already satisfied: multidict<7.0,>=4.5 in /usr/local/lib/python3.10/dist-packages (from aiohttp<4.0.0,>=3.8.3->langchain) (6.0.5)\n",
            "Requirement already satisfied: yarl<2.0,>=1.0 in /usr/local/lib/python3.10/dist-packages (from aiohttp<4.0.0,>=3.8.3->langchain) (1.9.4)\n",
            "Requirement already satisfied: jsonpatch<2.0,>=1.33 in /usr/local/lib/python3.10/dist-packages (from langchain-core<0.3.0,>=0.2.0->langchain) (1.33)\n",
            "Requirement already satisfied: packaging<24.0,>=23.2 in /usr/local/lib/python3.10/dist-packages (from langchain-core<0.3.0,>=0.2.0->langchain) (23.2)\n",
            "Requirement already satisfied: orjson<4.0.0,>=3.9.14 in /usr/local/lib/python3.10/dist-packages (from langsmith<0.2.0,>=0.1.17->langchain) (3.10.3)\n",
            "Requirement already satisfied: annotated-types>=0.4.0 in /usr/local/lib/python3.10/dist-packages (from pydantic<3,>=1->langchain) (0.7.0)\n",
            "Requirement already satisfied: pydantic-core==2.18.4 in /usr/local/lib/python3.10/dist-packages (from pydantic<3,>=1->langchain) (2.18.4)\n",
            "Requirement already satisfied: typing-extensions>=4.6.1 in /usr/local/lib/python3.10/dist-packages (from pydantic<3,>=1->langchain) (4.12.1)\n",
            "Requirement already satisfied: charset-normalizer<4,>=2 in /usr/local/lib/python3.10/dist-packages (from requests<3,>=2->langchain) (3.3.2)\n",
            "Requirement already satisfied: idna<4,>=2.5 in /usr/local/lib/python3.10/dist-packages (from requests<3,>=2->langchain) (3.7)\n",
            "Requirement already satisfied: urllib3<3,>=1.21.1 in /usr/local/lib/python3.10/dist-packages (from requests<3,>=2->langchain) (2.0.7)\n",
            "Requirement already satisfied: certifi>=2017.4.17 in /usr/local/lib/python3.10/dist-packages (from requests<3,>=2->langchain) (2024.6.2)\n",
            "Requirement already satisfied: greenlet!=0.4.17 in /usr/local/lib/python3.10/dist-packages (from SQLAlchemy<3,>=1.4->langchain) (3.0.3)\n",
            "Requirement already satisfied: jsonpointer>=1.9 in /usr/local/lib/python3.10/dist-packages (from jsonpatch<2.0,>=1.33->langchain-core<0.3.0,>=0.2.0->langchain) (2.4)\n",
            "Installing collected packages: langchain-text-splitters, langchain\n",
            "Successfully installed langchain-0.2.3 langchain-text-splitters-0.2.1\n",
            "Collecting gradio\n",
            "  Downloading gradio-4.36.0-py3-none-any.whl (12.3 MB)\n",
            "\u001b[2K     \u001b[90m━━━━━━━━━━━━━━━━━━━━━━━━━━━━━━━━━━━━━━━━\u001b[0m \u001b[32m12.3/12.3 MB\u001b[0m \u001b[31m66.4 MB/s\u001b[0m eta \u001b[36m0:00:00\u001b[0m\n",
            "\u001b[?25hCollecting aiofiles<24.0,>=22.0 (from gradio)\n",
            "  Downloading aiofiles-23.2.1-py3-none-any.whl (15 kB)\n",
            "Requirement already satisfied: altair<6.0,>=4.2.0 in /usr/local/lib/python3.10/dist-packages (from gradio) (4.2.2)\n",
            "Collecting fastapi (from gradio)\n",
            "  Downloading fastapi-0.111.0-py3-none-any.whl (91 kB)\n",
            "\u001b[2K     \u001b[90m━━━━━━━━━━━━━━━━━━━━━━━━━━━━━━━━━━━━━━━━\u001b[0m \u001b[32m92.0/92.0 kB\u001b[0m \u001b[31m3.9 MB/s\u001b[0m eta \u001b[36m0:00:00\u001b[0m\n",
            "\u001b[?25hCollecting ffmpy (from gradio)\n",
            "  Downloading ffmpy-0.3.2.tar.gz (5.5 kB)\n",
            "  Preparing metadata (setup.py) ... \u001b[?25l\u001b[?25hdone\n",
            "Collecting gradio-client==1.0.1 (from gradio)\n",
            "  Downloading gradio_client-1.0.1-py3-none-any.whl (318 kB)\n",
            "\u001b[2K     \u001b[90m━━━━━━━━━━━━━━━━━━━━━━━━━━━━━━━━━━━━━━━━\u001b[0m \u001b[32m318.1/318.1 kB\u001b[0m \u001b[31m29.2 MB/s\u001b[0m eta \u001b[36m0:00:00\u001b[0m\n",
            "\u001b[?25hCollecting httpx>=0.24.1 (from gradio)\n",
            "  Downloading httpx-0.27.0-py3-none-any.whl (75 kB)\n",
            "\u001b[2K     \u001b[90m━━━━━━━━━━━━━━━━━━━━━━━━━━━━━━━━━━━━━━━━\u001b[0m \u001b[32m75.6/75.6 kB\u001b[0m \u001b[31m7.6 MB/s\u001b[0m eta \u001b[36m0:00:00\u001b[0m\n",
            "\u001b[?25hRequirement already satisfied: huggingface-hub>=0.19.3 in /usr/local/lib/python3.10/dist-packages (from gradio) (0.23.2)\n",
            "Requirement already satisfied: importlib-resources<7.0,>=1.3 in /usr/local/lib/python3.10/dist-packages (from gradio) (6.4.0)\n",
            "Requirement already satisfied: jinja2<4.0 in /usr/local/lib/python3.10/dist-packages (from gradio) (3.1.4)\n",
            "Requirement already satisfied: markupsafe~=2.0 in /usr/local/lib/python3.10/dist-packages (from gradio) (2.1.5)\n",
            "Requirement already satisfied: matplotlib~=3.0 in /usr/local/lib/python3.10/dist-packages (from gradio) (3.7.1)\n",
            "Requirement already satisfied: numpy<3.0,>=1.0 in /usr/local/lib/python3.10/dist-packages (from gradio) (1.25.2)\n",
            "Requirement already satisfied: orjson~=3.0 in /usr/local/lib/python3.10/dist-packages (from gradio) (3.10.3)\n",
            "Requirement already satisfied: packaging in /usr/local/lib/python3.10/dist-packages (from gradio) (23.2)\n",
            "Requirement already satisfied: pandas<3.0,>=1.0 in /usr/local/lib/python3.10/dist-packages (from gradio) (2.0.3)\n",
            "Requirement already satisfied: pillow<11.0,>=8.0 in /usr/local/lib/python3.10/dist-packages (from gradio) (10.3.0)\n",
            "Requirement already satisfied: pydantic>=2.0 in /usr/local/lib/python3.10/dist-packages (from gradio) (2.7.3)\n",
            "Collecting pydub (from gradio)\n",
            "  Downloading pydub-0.25.1-py2.py3-none-any.whl (32 kB)\n",
            "Collecting python-multipart>=0.0.9 (from gradio)\n",
            "  Downloading python_multipart-0.0.9-py3-none-any.whl (22 kB)\n",
            "Requirement already satisfied: pyyaml<7.0,>=5.0 in /usr/local/lib/python3.10/dist-packages (from gradio) (6.0.1)\n",
            "Collecting ruff>=0.2.2 (from gradio)\n",
            "  Downloading ruff-0.4.8-py3-none-manylinux_2_17_x86_64.manylinux2014_x86_64.whl (8.8 MB)\n",
            "\u001b[2K     \u001b[90m━━━━━━━━━━━━━━━━━━━━━━━━━━━━━━━━━━━━━━━━\u001b[0m \u001b[32m8.8/8.8 MB\u001b[0m \u001b[31m36.3 MB/s\u001b[0m eta \u001b[36m0:00:00\u001b[0m\n",
            "\u001b[?25hCollecting semantic-version~=2.0 (from gradio)\n",
            "  Downloading semantic_version-2.10.0-py2.py3-none-any.whl (15 kB)\n",
            "Collecting tomlkit==0.12.0 (from gradio)\n",
            "  Downloading tomlkit-0.12.0-py3-none-any.whl (37 kB)\n",
            "Collecting typer<1.0,>=0.12 (from gradio)\n",
            "  Downloading typer-0.12.3-py3-none-any.whl (47 kB)\n",
            "\u001b[2K     \u001b[90m━━━━━━━━━━━━━━━━━━━━━━━━━━━━━━━━━━━━━━━━\u001b[0m \u001b[32m47.2/47.2 kB\u001b[0m \u001b[31m5.1 MB/s\u001b[0m eta \u001b[36m0:00:00\u001b[0m\n",
            "\u001b[?25hRequirement already satisfied: typing-extensions~=4.0 in /usr/local/lib/python3.10/dist-packages (from gradio) (4.12.1)\n",
            "Requirement already satisfied: urllib3~=2.0 in /usr/local/lib/python3.10/dist-packages (from gradio) (2.0.7)\n",
            "Collecting uvicorn>=0.14.0 (from gradio)\n",
            "  Downloading uvicorn-0.30.1-py3-none-any.whl (62 kB)\n",
            "\u001b[2K     \u001b[90m━━━━━━━━━━━━━━━━━━━━━━━━━━━━━━━━━━━━━━━━\u001b[0m \u001b[32m62.4/62.4 kB\u001b[0m \u001b[31m6.9 MB/s\u001b[0m eta \u001b[36m0:00:00\u001b[0m\n",
            "\u001b[?25hRequirement already satisfied: fsspec in /usr/local/lib/python3.10/dist-packages (from gradio-client==1.0.1->gradio) (2023.6.0)\n",
            "Collecting websockets<12.0,>=10.0 (from gradio-client==1.0.1->gradio)\n",
            "  Downloading websockets-11.0.3-cp310-cp310-manylinux_2_5_x86_64.manylinux1_x86_64.manylinux_2_17_x86_64.manylinux2014_x86_64.whl (129 kB)\n",
            "\u001b[2K     \u001b[90m━━━━━━━━━━━━━━━━━━━━━━━━━━━━━━━━━━━━━━━━\u001b[0m \u001b[32m129.9/129.9 kB\u001b[0m \u001b[31m13.6 MB/s\u001b[0m eta \u001b[36m0:00:00\u001b[0m\n",
            "\u001b[?25hRequirement already satisfied: entrypoints in /usr/local/lib/python3.10/dist-packages (from altair<6.0,>=4.2.0->gradio) (0.4)\n",
            "Requirement already satisfied: jsonschema>=3.0 in /usr/local/lib/python3.10/dist-packages (from altair<6.0,>=4.2.0->gradio) (4.19.2)\n",
            "Requirement already satisfied: toolz in /usr/local/lib/python3.10/dist-packages (from altair<6.0,>=4.2.0->gradio) (0.12.1)\n",
            "Requirement already satisfied: anyio in /usr/local/lib/python3.10/dist-packages (from httpx>=0.24.1->gradio) (3.7.1)\n",
            "Requirement already satisfied: certifi in /usr/local/lib/python3.10/dist-packages (from httpx>=0.24.1->gradio) (2024.6.2)\n",
            "Collecting httpcore==1.* (from httpx>=0.24.1->gradio)\n",
            "  Downloading httpcore-1.0.5-py3-none-any.whl (77 kB)\n",
            "\u001b[2K     \u001b[90m━━━━━━━━━━━━━━━━━━━━━━━━━━━━━━━━━━━━━━━━\u001b[0m \u001b[32m77.9/77.9 kB\u001b[0m \u001b[31m8.2 MB/s\u001b[0m eta \u001b[36m0:00:00\u001b[0m\n",
            "\u001b[?25hRequirement already satisfied: idna in /usr/local/lib/python3.10/dist-packages (from httpx>=0.24.1->gradio) (3.7)\n",
            "Requirement already satisfied: sniffio in /usr/local/lib/python3.10/dist-packages (from httpx>=0.24.1->gradio) (1.3.1)\n",
            "Collecting h11<0.15,>=0.13 (from httpcore==1.*->httpx>=0.24.1->gradio)\n",
            "  Downloading h11-0.14.0-py3-none-any.whl (58 kB)\n",
            "\u001b[2K     \u001b[90m━━━━━━━━━━━━━━━━━━━━━━━━━━━━━━━━━━━━━━━━\u001b[0m \u001b[32m58.3/58.3 kB\u001b[0m \u001b[31m6.6 MB/s\u001b[0m eta \u001b[36m0:00:00\u001b[0m\n",
            "\u001b[?25hRequirement already satisfied: filelock in /usr/local/lib/python3.10/dist-packages (from huggingface-hub>=0.19.3->gradio) (3.14.0)\n",
            "Requirement already satisfied: requests in /usr/local/lib/python3.10/dist-packages (from huggingface-hub>=0.19.3->gradio) (2.31.0)\n",
            "Requirement already satisfied: tqdm>=4.42.1 in /usr/local/lib/python3.10/dist-packages (from huggingface-hub>=0.19.3->gradio) (4.66.4)\n",
            "Requirement already satisfied: contourpy>=1.0.1 in /usr/local/lib/python3.10/dist-packages (from matplotlib~=3.0->gradio) (1.2.1)\n",
            "Requirement already satisfied: cycler>=0.10 in /usr/local/lib/python3.10/dist-packages (from matplotlib~=3.0->gradio) (0.12.1)\n",
            "Requirement already satisfied: fonttools>=4.22.0 in /usr/local/lib/python3.10/dist-packages (from matplotlib~=3.0->gradio) (4.53.0)\n",
            "Requirement already satisfied: kiwisolver>=1.0.1 in /usr/local/lib/python3.10/dist-packages (from matplotlib~=3.0->gradio) (1.4.5)\n",
            "Requirement already satisfied: pyparsing>=2.3.1 in /usr/local/lib/python3.10/dist-packages (from matplotlib~=3.0->gradio) (3.1.2)\n",
            "Requirement already satisfied: python-dateutil>=2.7 in /usr/local/lib/python3.10/dist-packages (from matplotlib~=3.0->gradio) (2.8.2)\n",
            "Requirement already satisfied: pytz>=2020.1 in /usr/local/lib/python3.10/dist-packages (from pandas<3.0,>=1.0->gradio) (2023.4)\n",
            "Requirement already satisfied: tzdata>=2022.1 in /usr/local/lib/python3.10/dist-packages (from pandas<3.0,>=1.0->gradio) (2024.1)\n",
            "Requirement already satisfied: annotated-types>=0.4.0 in /usr/local/lib/python3.10/dist-packages (from pydantic>=2.0->gradio) (0.7.0)\n",
            "Requirement already satisfied: pydantic-core==2.18.4 in /usr/local/lib/python3.10/dist-packages (from pydantic>=2.0->gradio) (2.18.4)\n",
            "Requirement already satisfied: click>=8.0.0 in /usr/local/lib/python3.10/dist-packages (from typer<1.0,>=0.12->gradio) (8.1.7)\n",
            "Collecting shellingham>=1.3.0 (from typer<1.0,>=0.12->gradio)\n",
            "  Downloading shellingham-1.5.4-py2.py3-none-any.whl (9.8 kB)\n",
            "Requirement already satisfied: rich>=10.11.0 in /usr/local/lib/python3.10/dist-packages (from typer<1.0,>=0.12->gradio) (13.7.1)\n",
            "Collecting starlette<0.38.0,>=0.37.2 (from fastapi->gradio)\n",
            "  Downloading starlette-0.37.2-py3-none-any.whl (71 kB)\n",
            "\u001b[2K     \u001b[90m━━━━━━━━━━━━━━━━━━━━━━━━━━━━━━━━━━━━━━━━\u001b[0m \u001b[32m71.9/71.9 kB\u001b[0m \u001b[31m8.1 MB/s\u001b[0m eta \u001b[36m0:00:00\u001b[0m\n",
            "\u001b[?25hCollecting fastapi-cli>=0.0.2 (from fastapi->gradio)\n",
            "  Downloading fastapi_cli-0.0.4-py3-none-any.whl (9.5 kB)\n",
            "Collecting ujson!=4.0.2,!=4.1.0,!=4.2.0,!=4.3.0,!=5.0.0,!=5.1.0,>=4.0.1 (from fastapi->gradio)\n",
            "  Downloading ujson-5.10.0-cp310-cp310-manylinux_2_17_x86_64.manylinux2014_x86_64.whl (53 kB)\n",
            "\u001b[2K     \u001b[90m━━━━━━━━━━━━━━━━━━━━━━━━━━━━━━━━━━━━━━━━\u001b[0m \u001b[32m53.6/53.6 kB\u001b[0m \u001b[31m5.3 MB/s\u001b[0m eta \u001b[36m0:00:00\u001b[0m\n",
            "\u001b[?25hCollecting email_validator>=2.0.0 (from fastapi->gradio)\n",
            "  Downloading email_validator-2.1.1-py3-none-any.whl (30 kB)\n",
            "Collecting dnspython>=2.0.0 (from email_validator>=2.0.0->fastapi->gradio)\n",
            "  Downloading dnspython-2.6.1-py3-none-any.whl (307 kB)\n",
            "\u001b[2K     \u001b[90m━━━━━━━━━━━━━━━━━━━━━━━━━━━━━━━━━━━━━━━━\u001b[0m \u001b[32m307.7/307.7 kB\u001b[0m \u001b[31m29.9 MB/s\u001b[0m eta \u001b[36m0:00:00\u001b[0m\n",
            "\u001b[?25hRequirement already satisfied: attrs>=22.2.0 in /usr/local/lib/python3.10/dist-packages (from jsonschema>=3.0->altair<6.0,>=4.2.0->gradio) (23.2.0)\n",
            "Requirement already satisfied: jsonschema-specifications>=2023.03.6 in /usr/local/lib/python3.10/dist-packages (from jsonschema>=3.0->altair<6.0,>=4.2.0->gradio) (2023.12.1)\n",
            "Requirement already satisfied: referencing>=0.28.4 in /usr/local/lib/python3.10/dist-packages (from jsonschema>=3.0->altair<6.0,>=4.2.0->gradio) (0.35.1)\n",
            "Requirement already satisfied: rpds-py>=0.7.1 in /usr/local/lib/python3.10/dist-packages (from jsonschema>=3.0->altair<6.0,>=4.2.0->gradio) (0.18.1)\n",
            "Requirement already satisfied: six>=1.5 in /usr/local/lib/python3.10/dist-packages (from python-dateutil>=2.7->matplotlib~=3.0->gradio) (1.16.0)\n",
            "Requirement already satisfied: markdown-it-py>=2.2.0 in /usr/local/lib/python3.10/dist-packages (from rich>=10.11.0->typer<1.0,>=0.12->gradio) (3.0.0)\n",
            "Requirement already satisfied: pygments<3.0.0,>=2.13.0 in /usr/local/lib/python3.10/dist-packages (from rich>=10.11.0->typer<1.0,>=0.12->gradio) (2.16.1)\n",
            "Requirement already satisfied: exceptiongroup in /usr/local/lib/python3.10/dist-packages (from anyio->httpx>=0.24.1->gradio) (1.2.1)\n",
            "Collecting httptools>=0.5.0 (from uvicorn>=0.14.0->gradio)\n",
            "  Downloading httptools-0.6.1-cp310-cp310-manylinux_2_5_x86_64.manylinux1_x86_64.manylinux_2_17_x86_64.manylinux2014_x86_64.whl (341 kB)\n",
            "\u001b[2K     \u001b[90m━━━━━━━━━━━━━━━━━━━━━━━━━━━━━━━━━━━━━━━━\u001b[0m \u001b[32m341.4/341.4 kB\u001b[0m \u001b[31m34.7 MB/s\u001b[0m eta \u001b[36m0:00:00\u001b[0m\n",
            "\u001b[?25hCollecting python-dotenv>=0.13 (from uvicorn>=0.14.0->gradio)\n",
            "  Downloading python_dotenv-1.0.1-py3-none-any.whl (19 kB)\n",
            "Collecting uvloop!=0.15.0,!=0.15.1,>=0.14.0 (from uvicorn>=0.14.0->gradio)\n",
            "  Downloading uvloop-0.19.0-cp310-cp310-manylinux_2_17_x86_64.manylinux2014_x86_64.whl (3.4 MB)\n",
            "\u001b[2K     \u001b[90m━━━━━━━━━━━━━━━━━━━━━━━━━━━━━━━━━━━━━━━━\u001b[0m \u001b[32m3.4/3.4 MB\u001b[0m \u001b[31m92.1 MB/s\u001b[0m eta \u001b[36m0:00:00\u001b[0m\n",
            "\u001b[?25hCollecting watchfiles>=0.13 (from uvicorn>=0.14.0->gradio)\n",
            "  Downloading watchfiles-0.22.0-cp310-cp310-manylinux_2_17_x86_64.manylinux2014_x86_64.whl (1.2 MB)\n",
            "\u001b[2K     \u001b[90m━━━━━━━━━━━━━━━━━━━━━━━━━━━━━━━━━━━━━━━━\u001b[0m \u001b[32m1.2/1.2 MB\u001b[0m \u001b[31m65.9 MB/s\u001b[0m eta \u001b[36m0:00:00\u001b[0m\n",
            "\u001b[?25hRequirement already satisfied: charset-normalizer<4,>=2 in /usr/local/lib/python3.10/dist-packages (from requests->huggingface-hub>=0.19.3->gradio) (3.3.2)\n",
            "Requirement already satisfied: mdurl~=0.1 in /usr/local/lib/python3.10/dist-packages (from markdown-it-py>=2.2.0->rich>=10.11.0->typer<1.0,>=0.12->gradio) (0.1.2)\n",
            "Building wheels for collected packages: ffmpy\n",
            "  Building wheel for ffmpy (setup.py) ... \u001b[?25l\u001b[?25hdone\n",
            "  Created wheel for ffmpy: filename=ffmpy-0.3.2-py3-none-any.whl size=5584 sha256=02c12796a096b5597e97cea392c10aa631a1adf72219494a093db4b7eff1cf01\n",
            "  Stored in directory: /root/.cache/pip/wheels/bd/65/9a/671fc6dcde07d4418df0c592f8df512b26d7a0029c2a23dd81\n",
            "Successfully built ffmpy\n",
            "Installing collected packages: pydub, ffmpy, websockets, uvloop, ujson, tomlkit, shellingham, semantic-version, ruff, python-multipart, python-dotenv, httptools, h11, dnspython, aiofiles, watchfiles, uvicorn, starlette, httpcore, email_validator, typer, httpx, gradio-client, fastapi-cli, fastapi, gradio\n",
            "  Attempting uninstall: typer\n",
            "    Found existing installation: typer 0.9.4\n",
            "    Uninstalling typer-0.9.4:\n",
            "      Successfully uninstalled typer-0.9.4\n",
            "\u001b[31mERROR: pip's dependency resolver does not currently take into account all the packages that are installed. This behaviour is the source of the following dependency conflicts.\n",
            "spacy 3.7.4 requires typer<0.10.0,>=0.3.0, but you have typer 0.12.3 which is incompatible.\n",
            "weasel 0.3.4 requires typer<0.10.0,>=0.3.0, but you have typer 0.12.3 which is incompatible.\u001b[0m\u001b[31m\n",
            "\u001b[0mSuccessfully installed aiofiles-23.2.1 dnspython-2.6.1 email_validator-2.1.1 fastapi-0.111.0 fastapi-cli-0.0.4 ffmpy-0.3.2 gradio-4.36.0 gradio-client-1.0.1 h11-0.14.0 httpcore-1.0.5 httptools-0.6.1 httpx-0.27.0 pydub-0.25.1 python-dotenv-1.0.1 python-multipart-0.0.9 ruff-0.4.8 semantic-version-2.10.0 shellingham-1.5.4 starlette-0.37.2 tomlkit-0.12.0 typer-0.12.3 ujson-5.10.0 uvicorn-0.30.1 uvloop-0.19.0 watchfiles-0.22.0 websockets-11.0.3\n",
            "Collecting openai\n",
            "  Downloading openai-1.32.0-py3-none-any.whl (325 kB)\n",
            "\u001b[2K     \u001b[90m━━━━━━━━━━━━━━━━━━━━━━━━━━━━━━━━━━━━━━━━\u001b[0m \u001b[32m325.2/325.2 kB\u001b[0m \u001b[31m4.4 MB/s\u001b[0m eta \u001b[36m0:00:00\u001b[0m\n",
            "\u001b[?25hRequirement already satisfied: anyio<5,>=3.5.0 in /usr/local/lib/python3.10/dist-packages (from openai) (3.7.1)\n",
            "Requirement already satisfied: distro<2,>=1.7.0 in /usr/lib/python3/dist-packages (from openai) (1.7.0)\n",
            "Requirement already satisfied: httpx<1,>=0.23.0 in /usr/local/lib/python3.10/dist-packages (from openai) (0.27.0)\n",
            "Requirement already satisfied: pydantic<3,>=1.9.0 in /usr/local/lib/python3.10/dist-packages (from openai) (2.7.3)\n",
            "Requirement already satisfied: sniffio in /usr/local/lib/python3.10/dist-packages (from openai) (1.3.1)\n",
            "Requirement already satisfied: tqdm>4 in /usr/local/lib/python3.10/dist-packages (from openai) (4.66.4)\n",
            "Requirement already satisfied: typing-extensions<5,>=4.7 in /usr/local/lib/python3.10/dist-packages (from openai) (4.12.1)\n",
            "Requirement already satisfied: idna>=2.8 in /usr/local/lib/python3.10/dist-packages (from anyio<5,>=3.5.0->openai) (3.7)\n",
            "Requirement already satisfied: exceptiongroup in /usr/local/lib/python3.10/dist-packages (from anyio<5,>=3.5.0->openai) (1.2.1)\n",
            "Requirement already satisfied: certifi in /usr/local/lib/python3.10/dist-packages (from httpx<1,>=0.23.0->openai) (2024.6.2)\n",
            "Requirement already satisfied: httpcore==1.* in /usr/local/lib/python3.10/dist-packages (from httpx<1,>=0.23.0->openai) (1.0.5)\n",
            "Requirement already satisfied: h11<0.15,>=0.13 in /usr/local/lib/python3.10/dist-packages (from httpcore==1.*->httpx<1,>=0.23.0->openai) (0.14.0)\n",
            "Requirement already satisfied: annotated-types>=0.4.0 in /usr/local/lib/python3.10/dist-packages (from pydantic<3,>=1.9.0->openai) (0.7.0)\n",
            "Requirement already satisfied: pydantic-core==2.18.4 in /usr/local/lib/python3.10/dist-packages (from pydantic<3,>=1.9.0->openai) (2.18.4)\n",
            "Installing collected packages: openai\n",
            "Successfully installed openai-1.32.0\n"
          ]
        }
      ]
    },
    {
      "cell_type": "code",
      "source": [
        "!pip install  langchain_community"
      ],
      "metadata": {
        "colab": {
          "base_uri": "https://localhost:8080/"
        },
        "id": "rPadljNm-QP4",
        "outputId": "15d7e08b-1671-4c3b-a1fe-9dfc5c0a297d"
      },
      "execution_count": 4,
      "outputs": [
        {
          "output_type": "stream",
          "name": "stdout",
          "text": [
            "Collecting langchain_community\n",
            "  Downloading langchain_community-0.2.4-py3-none-any.whl (2.2 MB)\n",
            "\u001b[2K     \u001b[90m━━━━━━━━━━━━━━━━━━━━━━━━━━━━━━━━━━━━━━━━\u001b[0m \u001b[32m2.2/2.2 MB\u001b[0m \u001b[31m24.8 MB/s\u001b[0m eta \u001b[36m0:00:00\u001b[0m\n",
            "\u001b[?25hRequirement already satisfied: PyYAML>=5.3 in /usr/local/lib/python3.10/dist-packages (from langchain_community) (6.0.1)\n",
            "Requirement already satisfied: SQLAlchemy<3,>=1.4 in /usr/local/lib/python3.10/dist-packages (from langchain_community) (2.0.30)\n",
            "Requirement already satisfied: aiohttp<4.0.0,>=3.8.3 in /usr/local/lib/python3.10/dist-packages (from langchain_community) (3.9.5)\n",
            "Collecting dataclasses-json<0.7,>=0.5.7 (from langchain_community)\n",
            "  Downloading dataclasses_json-0.6.6-py3-none-any.whl (28 kB)\n",
            "Requirement already satisfied: langchain<0.3.0,>=0.2.0 in /usr/local/lib/python3.10/dist-packages (from langchain_community) (0.2.3)\n",
            "Requirement already satisfied: langchain-core<0.3.0,>=0.2.0 in /usr/local/lib/python3.10/dist-packages (from langchain_community) (0.2.5)\n",
            "Requirement already satisfied: langsmith<0.2.0,>=0.1.0 in /usr/local/lib/python3.10/dist-packages (from langchain_community) (0.1.75)\n",
            "Requirement already satisfied: numpy<2,>=1 in /usr/local/lib/python3.10/dist-packages (from langchain_community) (1.25.2)\n",
            "Requirement already satisfied: requests<3,>=2 in /usr/local/lib/python3.10/dist-packages (from langchain_community) (2.31.0)\n",
            "Requirement already satisfied: tenacity<9.0.0,>=8.1.0 in /usr/local/lib/python3.10/dist-packages (from langchain_community) (8.3.0)\n",
            "Requirement already satisfied: aiosignal>=1.1.2 in /usr/local/lib/python3.10/dist-packages (from aiohttp<4.0.0,>=3.8.3->langchain_community) (1.3.1)\n",
            "Requirement already satisfied: attrs>=17.3.0 in /usr/local/lib/python3.10/dist-packages (from aiohttp<4.0.0,>=3.8.3->langchain_community) (23.2.0)\n",
            "Requirement already satisfied: frozenlist>=1.1.1 in /usr/local/lib/python3.10/dist-packages (from aiohttp<4.0.0,>=3.8.3->langchain_community) (1.4.1)\n",
            "Requirement already satisfied: multidict<7.0,>=4.5 in /usr/local/lib/python3.10/dist-packages (from aiohttp<4.0.0,>=3.8.3->langchain_community) (6.0.5)\n",
            "Requirement already satisfied: yarl<2.0,>=1.0 in /usr/local/lib/python3.10/dist-packages (from aiohttp<4.0.0,>=3.8.3->langchain_community) (1.9.4)\n",
            "Requirement already satisfied: async-timeout<5.0,>=4.0 in /usr/local/lib/python3.10/dist-packages (from aiohttp<4.0.0,>=3.8.3->langchain_community) (4.0.3)\n",
            "Collecting marshmallow<4.0.0,>=3.18.0 (from dataclasses-json<0.7,>=0.5.7->langchain_community)\n",
            "  Downloading marshmallow-3.21.3-py3-none-any.whl (49 kB)\n",
            "\u001b[2K     \u001b[90m━━━━━━━━━━━━━━━━━━━━━━━━━━━━━━━━━━━━━━━━\u001b[0m \u001b[32m49.2/49.2 kB\u001b[0m \u001b[31m6.1 MB/s\u001b[0m eta \u001b[36m0:00:00\u001b[0m\n",
            "\u001b[?25hCollecting typing-inspect<1,>=0.4.0 (from dataclasses-json<0.7,>=0.5.7->langchain_community)\n",
            "  Downloading typing_inspect-0.9.0-py3-none-any.whl (8.8 kB)\n",
            "Requirement already satisfied: langchain-text-splitters<0.3.0,>=0.2.0 in /usr/local/lib/python3.10/dist-packages (from langchain<0.3.0,>=0.2.0->langchain_community) (0.2.1)\n",
            "Requirement already satisfied: pydantic<3,>=1 in /usr/local/lib/python3.10/dist-packages (from langchain<0.3.0,>=0.2.0->langchain_community) (2.7.3)\n",
            "Requirement already satisfied: jsonpatch<2.0,>=1.33 in /usr/local/lib/python3.10/dist-packages (from langchain-core<0.3.0,>=0.2.0->langchain_community) (1.33)\n",
            "Requirement already satisfied: packaging<24.0,>=23.2 in /usr/local/lib/python3.10/dist-packages (from langchain-core<0.3.0,>=0.2.0->langchain_community) (23.2)\n",
            "Requirement already satisfied: orjson<4.0.0,>=3.9.14 in /usr/local/lib/python3.10/dist-packages (from langsmith<0.2.0,>=0.1.0->langchain_community) (3.10.3)\n",
            "Requirement already satisfied: charset-normalizer<4,>=2 in /usr/local/lib/python3.10/dist-packages (from requests<3,>=2->langchain_community) (3.3.2)\n",
            "Requirement already satisfied: idna<4,>=2.5 in /usr/local/lib/python3.10/dist-packages (from requests<3,>=2->langchain_community) (3.7)\n",
            "Requirement already satisfied: urllib3<3,>=1.21.1 in /usr/local/lib/python3.10/dist-packages (from requests<3,>=2->langchain_community) (2.0.7)\n",
            "Requirement already satisfied: certifi>=2017.4.17 in /usr/local/lib/python3.10/dist-packages (from requests<3,>=2->langchain_community) (2024.6.2)\n",
            "Requirement already satisfied: typing-extensions>=4.6.0 in /usr/local/lib/python3.10/dist-packages (from SQLAlchemy<3,>=1.4->langchain_community) (4.12.1)\n",
            "Requirement already satisfied: greenlet!=0.4.17 in /usr/local/lib/python3.10/dist-packages (from SQLAlchemy<3,>=1.4->langchain_community) (3.0.3)\n",
            "Requirement already satisfied: jsonpointer>=1.9 in /usr/local/lib/python3.10/dist-packages (from jsonpatch<2.0,>=1.33->langchain-core<0.3.0,>=0.2.0->langchain_community) (2.4)\n",
            "Requirement already satisfied: annotated-types>=0.4.0 in /usr/local/lib/python3.10/dist-packages (from pydantic<3,>=1->langchain<0.3.0,>=0.2.0->langchain_community) (0.7.0)\n",
            "Requirement already satisfied: pydantic-core==2.18.4 in /usr/local/lib/python3.10/dist-packages (from pydantic<3,>=1->langchain<0.3.0,>=0.2.0->langchain_community) (2.18.4)\n",
            "Collecting mypy-extensions>=0.3.0 (from typing-inspect<1,>=0.4.0->dataclasses-json<0.7,>=0.5.7->langchain_community)\n",
            "  Downloading mypy_extensions-1.0.0-py3-none-any.whl (4.7 kB)\n",
            "Installing collected packages: mypy-extensions, marshmallow, typing-inspect, dataclasses-json, langchain_community\n",
            "Successfully installed dataclasses-json-0.6.6 langchain_community-0.2.4 marshmallow-3.21.3 mypy-extensions-1.0.0 typing-inspect-0.9.0\n"
          ]
        }
      ]
    },
    {
      "cell_type": "code",
      "source": [
        "from langchain_nvidia_ai_endpoints import ChatNVIDIA\n",
        "from langchain_nvidia_ai_endpoints._common import NVEModel"
      ],
      "metadata": {
        "id": "m4CEfgpb20f3"
      },
      "execution_count": 5,
      "outputs": []
    },
    {
      "cell_type": "code",
      "source": [
        "ChatNVIDIA.get_available_models()\n"
      ],
      "metadata": {
        "colab": {
          "base_uri": "https://localhost:8080/"
        },
        "id": "FzNTsx9gPxdX",
        "outputId": "cf3fd7a5-2e25-4bff-cf44-87d709042b17"
      },
      "execution_count": 6,
      "outputs": [
        {
          "output_type": "execute_result",
          "data": {
            "text/plain": [
              "[Model(id='microsoft/phi-3-small-8k-instruct', model_type='chat', client='ChatNVIDIA', endpoint=None, aliases=['ai-phi-3-small-8k-instruct']),\n",
              " Model(id='microsoft/phi-3-vision-128k-instruct', model_type='vlm', client='ChatNVIDIA', endpoint='https://ai.api.nvidia.com/v1/vlm/microsoft/phi-3-vision-128k-instruct', aliases=['ai-phi-3-vision-128k-instruct']),\n",
              " Model(id='mediatek/breeze-7b-instruct', model_type='chat', client='ChatNVIDIA', endpoint=None, aliases=['ai-breeze-7b-instruct']),\n",
              " Model(id='microsoft/phi-3-medium-4k-instruct', model_type='chat', client='ChatNVIDIA', endpoint=None, aliases=['ai-phi-3-medium-4k-instruct']),\n",
              " Model(id='ibm/granite-8b-code-instruct', model_type='chat', client='ChatNVIDIA', endpoint=None, aliases=['ai-granite-8b-code-instruct']),\n",
              " Model(id='mistralai/mistral-7b-instruct-v0.2', model_type='chat', client='ChatNVIDIA', endpoint=None, aliases=['ai-mistral-7b-instruct-v2', 'playground_mistral_7b', 'mistral_7b']),\n",
              " Model(id='microsoft/phi-3-mini-4k-instruct', model_type='chat', client='ChatNVIDIA', endpoint=None, aliases=['ai-phi-3-mini-4k', 'playground_phi2', 'phi2']),\n",
              " Model(id='meta/llama3-70b-instruct', model_type='chat', client='ChatNVIDIA', endpoint=None, aliases=['ai-llama3-70b']),\n",
              " Model(id='ibm/granite-34b-code-instruct', model_type='chat', client='ChatNVIDIA', endpoint=None, aliases=['ai-granite-34b-code-instruct']),\n",
              " Model(id='google/codegemma-1.1-7b', model_type='chat', client='ChatNVIDIA', endpoint=None, aliases=['ai-codegemma-1.1-7b']),\n",
              " Model(id='google/gemma-7b', model_type='chat', client='ChatNVIDIA', endpoint=None, aliases=['ai-gemma-7b', 'playground_gemma_7b', 'gemma_7b']),\n",
              " Model(id='meta/llama2-70b', model_type='chat', client='ChatNVIDIA', endpoint=None, aliases=['ai-llama2-70b', 'playground_llama2_70b', 'llama2_70b', 'playground_llama2_13b', 'llama2_13b']),\n",
              " Model(id='snowflake/arctic', model_type='chat', client='ChatNVIDIA', endpoint=None, aliases=['ai-arctic']),\n",
              " Model(id='databricks/dbrx-instruct', model_type='chat', client='ChatNVIDIA', endpoint=None, aliases=['ai-dbrx-instruct']),\n",
              " Model(id='nvidia/neva-22b', model_type='vlm', client='ChatNVIDIA', endpoint='https://ai.api.nvidia.com/v1/vlm/nvidia/neva-22b', aliases=['ai-neva-22b', 'playground_neva_22b', 'neva_22b']),\n",
              " Model(id='meta/codellama-70b', model_type='chat', client='ChatNVIDIA', endpoint=None, aliases=['ai-codellama-70b', 'playground_llama2_code_70b', 'llama2_code_70b', 'playground_llama2_code_34b', 'llama2_code_34b', 'playground_llama2_code_13b', 'llama2_code_13b']),\n",
              " Model(id='adept/fuyu-8b', model_type='vlm', client='ChatNVIDIA', endpoint='https://ai.api.nvidia.com/v1/vlm/adept/fuyu-8b', aliases=['ai-fuyu-8b', 'playground_fuyu_8b', 'fuyu_8b']),\n",
              " Model(id='microsoft/phi-3-mini-128k-instruct', model_type='chat', client='ChatNVIDIA', endpoint=None, aliases=['ai-phi-3-mini']),\n",
              " Model(id='google/codegemma-7b', model_type='chat', client='ChatNVIDIA', endpoint=None, aliases=['ai-codegemma-7b']),\n",
              " Model(id='microsoft/kosmos-2', model_type='vlm', client='ChatNVIDIA', endpoint='https://ai.api.nvidia.com/v1/vlm/microsoft/kosmos-2', aliases=['ai-microsoft-kosmos-2', 'playground_kosmos_2', 'kosmos_2']),\n",
              " Model(id='meta/llama3-8b-instruct', model_type='chat', client='ChatNVIDIA', endpoint=None, aliases=['ai-llama3-8b']),\n",
              " Model(id='google/recurrentgemma-2b', model_type='chat', client='ChatNVIDIA', endpoint=None, aliases=['ai-recurrentgemma-2b']),\n",
              " Model(id='google/gemma-2b', model_type='chat', client='ChatNVIDIA', endpoint=None, aliases=['ai-gemma-2b', 'playground_gemma_2b', 'gemma_2b']),\n",
              " Model(id='mistralai/mixtral-8x7b-instruct-v0.1', model_type='chat', client='ChatNVIDIA', endpoint=None, aliases=['ai-mixtral-8x7b-instruct', 'playground_mixtral_8x7b', 'mixtral_8x7b']),\n",
              " Model(id='aisingapore/sea-lion-7b-instruct', model_type='chat', client='ChatNVIDIA', endpoint=None, aliases=['ai-sea-lion-7b-instruct']),\n",
              " Model(id='seallms/seallm-7b-v2.5', model_type='chat', client='ChatNVIDIA', endpoint=None, aliases=['ai-seallm-7b']),\n",
              " Model(id='mistralai/mistral-large', model_type='chat', client='ChatNVIDIA', endpoint=None, aliases=['ai-mistral-large']),\n",
              " Model(id='google/deplot', model_type='vlm', client='ChatNVIDIA', endpoint='https://ai.api.nvidia.com/v1/vlm/google/deplot', aliases=['ai-google-deplot', 'playground_deplot', 'deplot']),\n",
              " Model(id='google/paligemma', model_type='vlm', client='ChatNVIDIA', endpoint='https://ai.api.nvidia.com/v1/vlm/google/paligemma', aliases=['ai-google-paligemma']),\n",
              " Model(id='microsoft/phi-3-small-128k-instruct', model_type='chat', client='ChatNVIDIA', endpoint=None, aliases=['ai-phi-3-small-128k-instruct']),\n",
              " Model(id='mistralai/mixtral-8x22b-instruct-v0.1', model_type='chat', client='ChatNVIDIA', endpoint=None, aliases=['ai-mixtral-8x22b-instruct'])]"
            ]
          },
          "metadata": {},
          "execution_count": 6
        }
      ]
    },
    {
      "cell_type": "code",
      "source": [
        "chat_llm = ChatNVIDIA(model=\"meta/llama3-70b-instruct\")"
      ],
      "metadata": {
        "id": "MCZtRDHR3afM"
      },
      "execution_count": 7,
      "outputs": []
    },
    {
      "cell_type": "code",
      "source": [
        "from langchain_community.document_loaders import PyPDFLoader"
      ],
      "metadata": {
        "id": "GJkl3P-u8Fik"
      },
      "execution_count": 8,
      "outputs": []
    },
    {
      "cell_type": "code",
      "source": [
        "!pip install pypdf"
      ],
      "metadata": {
        "colab": {
          "base_uri": "https://localhost:8080/"
        },
        "id": "YYFfA9RAUZl_",
        "outputId": "436bdac9-3044-492c-9259-1dc282265dab"
      },
      "execution_count": 9,
      "outputs": [
        {
          "output_type": "stream",
          "name": "stdout",
          "text": [
            "Collecting pypdf\n",
            "  Downloading pypdf-4.2.0-py3-none-any.whl (290 kB)\n",
            "\u001b[2K     \u001b[90m━━━━━━━━━━━━━━━━━━━━━━━━━━━━━━━━━━━━━━━━\u001b[0m \u001b[32m290.4/290.4 kB\u001b[0m \u001b[31m4.3 MB/s\u001b[0m eta \u001b[36m0:00:00\u001b[0m\n",
            "\u001b[?25hRequirement already satisfied: typing_extensions>=4.0 in /usr/local/lib/python3.10/dist-packages (from pypdf) (4.12.1)\n",
            "Installing collected packages: pypdf\n",
            "Successfully installed pypdf-4.2.0\n"
          ]
        }
      ]
    },
    {
      "cell_type": "code",
      "source": [
        "\n",
        "\n",
        "\n",
        "def get_pdf_text(file_path):\n",
        "    loader = PyPDFLoader(file_path)\n",
        "    pages = loader.load_and_split()\n",
        "    print(pages[0].metadata)\n",
        "    text = \"\"\n",
        "    for page in pages:\n",
        "        text += page.page_content\n",
        "    return text\n",
        "\n",
        "pdf = get_pdf_text(\"/content/drive/MyDrive/Sci-FI Adventure.pdf\")\n",
        "print(len(pdf))"
      ],
      "metadata": {
        "colab": {
          "base_uri": "https://localhost:8080/"
        },
        "id": "F26w3_35-GH2",
        "outputId": "8fd1b52b-41d1-469d-8e58-d20882456f6d"
      },
      "execution_count": 11,
      "outputs": [
        {
          "output_type": "stream",
          "name": "stdout",
          "text": [
            "{'source': '/content/drive/MyDrive/Sci-FI Adventure.pdf', 'page': 0}\n",
            "14208\n"
          ]
        }
      ]
    },
    {
      "cell_type": "code",
      "source": [
        "(pdf[:500])"
      ],
      "metadata": {
        "colab": {
          "base_uri": "https://localhost:8080/",
          "height": 70
        },
        "id": "uoNi-OLXUTuY",
        "outputId": "d47c2e4e-cf97-4fc1-a3bb-d6f823d56d40"
      },
      "execution_count": 12,
      "outputs": [
        {
          "output_type": "execute_result",
          "data": {
            "text/plain": [
              "'Mxi123:\\nA\\nLove\\nStory\\nAmong\\nthe\\nStars\\n(A\\nSci-Fi\\nAdventure)\\nChapter\\n1:\\nA\\nWorld\\nBeyond\\nImagination\\nRaja,\\na\\nbrilliant\\nastrophysicist\\nwith\\neyes\\nthat\\nmirrored\\nthe\\nnight\\nsky,\\nstood\\nat\\nthe\\nprecipice\\nof\\na\\ndiscovery\\nunlike\\nany\\nother.\\nFor\\nyears,\\nhe\\nhad\\nmeticulously\\nsifted\\nthrough\\ncosmic\\nsignals,\\nhis\\nunwavering\\npassion\\nfueled\\nby\\nthe\\nprospect\\nof\\nfinding\\nlife\\nbeyond\\nEarth.\\nOne\\nevening,\\namidst\\nthe\\ncacophony\\nof\\ninterstellar\\nnoise,\\na\\nfaint\\nyet\\ndistinct\\npattern\\nemerged\\non\\nhis\\nmonitor.\\nIt\\noriginated\\nfrom\\na\\ndistant'"
            ],
            "application/vnd.google.colaboratory.intrinsic+json": {
              "type": "string"
            }
          },
          "metadata": {},
          "execution_count": 12
        }
      ]
    },
    {
      "cell_type": "code",
      "source": [
        "pdf_pages= PyPDFLoader(\"/content/drive/MyDrive/Sci-FI Adventure.pdf\").load_and_split()\n",
        "# print(len(pdf))\n"
      ],
      "metadata": {
        "id": "cpjFz2_yVniW"
      },
      "execution_count": 13,
      "outputs": []
    },
    {
      "cell_type": "code",
      "source": [
        "from langchain.text_splitter import RecursiveCharacterTextSplitter\n",
        "\n",
        "\n",
        "text_splitter = RecursiveCharacterTextSplitter(\n",
        "    chunk_size = 1000,\n",
        "    chunk_overlap = 100,\n",
        "    separators = [\"\\n\\n\", \"\\n\", \".\", \";\", \",\", \" \", \"\"]\n",
        ")\n",
        "\n",
        "\n",
        "pdf_splits= text_splitter.split_documents(pdf_pages)\n",
        "print(len(pdf_splits))"
      ],
      "metadata": {
        "colab": {
          "base_uri": "https://localhost:8080/"
        },
        "id": "XGdA8TezWRe3",
        "outputId": "0df7b29e-0118-4972-aeac-e6cb7de6a50e"
      },
      "execution_count": 14,
      "outputs": [
        {
          "output_type": "stream",
          "name": "stdout",
          "text": [
            "18\n"
          ]
        }
      ]
    },
    {
      "cell_type": "code",
      "source": [
        "print(pdf_splits[0])"
      ],
      "metadata": {
        "colab": {
          "base_uri": "https://localhost:8080/"
        },
        "id": "PAeSPIgGZLLl",
        "outputId": "8bc1a1dc-8430-45de-e444-280216318cf8"
      },
      "execution_count": 15,
      "outputs": [
        {
          "output_type": "stream",
          "name": "stdout",
          "text": [
            "page_content='Mxi123:\\nA\\nLove\\nStory\\nAmong\\nthe\\nStars\\n(A\\nSci-Fi\\nAdventure)\\nChapter\\n1:\\nA\\nWorld\\nBeyond\\nImagination\\nRaja,\\na\\nbrilliant\\nastrophysicist\\nwith\\neyes\\nthat\\nmirrored\\nthe\\nnight\\nsky,\\nstood\\nat\\nthe\\nprecipice\\nof\\na\\ndiscovery\\nunlike\\nany\\nother.\\nFor\\nyears,\\nhe\\nhad\\nmeticulously\\nsifted\\nthrough\\ncosmic\\nsignals,\\nhis\\nunwavering\\npassion\\nfueled\\nby\\nthe\\nprospect\\nof\\nfinding\\nlife\\nbeyond\\nEarth.\\nOne\\nevening,\\namidst\\nthe\\ncacophony\\nof\\ninterstellar\\nnoise,\\na\\nfaint\\nyet\\ndistinct\\npattern\\nemerged\\non\\nhis\\nmonitor.\\nIt\\noriginated\\nfrom\\na\\ndistant\\nstar\\nsystem,\\na\\nplace\\ndesignated\\nMxi123.\\nThe\\ndata,\\nthough\\ncryptic,\\nheld\\nthe\\nundeniable\\nsignature\\nof\\nintelligence.\\nMeanwhile,\\nacross\\nthe\\nbustling\\nmetropolis\\nof\\nMumbai,\\nRani,\\na\\nrenowned\\nbotanist\\nwith\\na\\nheart\\nas\\nverdant\\nas\\nthe\\nrainforests\\nshe\\nstudied,\\nwas\\ncaptivated\\nby\\na\\npeculiar\\nanomaly\\nin\\nher\\nlab.\\nA\\nseemingly\\nordinary\\nseed,\\ngifted\\nto\\nher\\nby\\na\\nvisiting\\nprofessor,\\nexhibited\\nan\\notherworldly\\nresilience.\\nIt\\nthrived\\nunder\\nconditions\\nthat\\nwould\\nhave\\ndestroyed\\nany\\nterrestrial\\nplant\\nlife.\\nThis\\nanomaly' metadata={'source': '/content/drive/MyDrive/Sci-FI Adventure.pdf', 'page': 0}\n"
          ]
        }
      ]
    },
    {
      "cell_type": "code",
      "source": [
        "def remove_extra_newlines(pdf_text):\n",
        "  \"\"\"Removes unnecessary newlines from the given PDF text.\"\"\"\n",
        "  return pdf_text.replace(\"\\n\", \" \")"
      ],
      "metadata": {
        "id": "LTlLro8EYGTt"
      },
      "execution_count": 16,
      "outputs": []
    },
    {
      "cell_type": "code",
      "source": [
        "for splits in pdf_splits:\n",
        "  splits.page_content = remove_extra_newlines(splits.page_content)"
      ],
      "metadata": {
        "id": "wASbp7MPYUdb"
      },
      "execution_count": 17,
      "outputs": []
    },
    {
      "cell_type": "code",
      "source": [
        "print(pdf_splits[0])"
      ],
      "metadata": {
        "colab": {
          "base_uri": "https://localhost:8080/"
        },
        "id": "q0qCPzJkZTq0",
        "outputId": "bad4841b-235d-4b5e-f743-a547fc5edf55"
      },
      "execution_count": 18,
      "outputs": [
        {
          "output_type": "stream",
          "name": "stdout",
          "text": [
            "page_content='Mxi123: A Love Story Among the Stars (A Sci-Fi Adventure) Chapter 1: A World Beyond Imagination Raja, a brilliant astrophysicist with eyes that mirrored the night sky, stood at the precipice of a discovery unlike any other. For years, he had meticulously sifted through cosmic signals, his unwavering passion fueled by the prospect of finding life beyond Earth. One evening, amidst the cacophony of interstellar noise, a faint yet distinct pattern emerged on his monitor. It originated from a distant star system, a place designated Mxi123. The data, though cryptic, held the undeniable signature of intelligence. Meanwhile, across the bustling metropolis of Mumbai, Rani, a renowned botanist with a heart as verdant as the rainforests she studied, was captivated by a peculiar anomaly in her lab. A seemingly ordinary seed, gifted to her by a visiting professor, exhibited an otherworldly resilience. It thrived under conditions that would have destroyed any terrestrial plant life. This anomaly' metadata={'source': '/content/drive/MyDrive/Sci-FI Adventure.pdf', 'page': 0}\n"
          ]
        }
      ]
    },
    {
      "cell_type": "code",
      "source": [
        "for i in (0, 1, 2, 15, -1):\n",
        "    print(f\"[Document {i}]\")\n",
        "    print(pdf_splits[i].page_content)\n",
        "    print(\"=\"*64)"
      ],
      "metadata": {
        "colab": {
          "base_uri": "https://localhost:8080/"
        },
        "id": "Y22WIGZCZVgC",
        "outputId": "eccceef3-8bde-4591-d16c-afd730abc1d6"
      },
      "execution_count": 19,
      "outputs": [
        {
          "output_type": "stream",
          "name": "stdout",
          "text": [
            "[Document 0]\n",
            "Mxi123: A Love Story Among the Stars (A Sci-Fi Adventure) Chapter 1: A World Beyond Imagination Raja, a brilliant astrophysicist with eyes that mirrored the night sky, stood at the precipice of a discovery unlike any other. For years, he had meticulously sifted through cosmic signals, his unwavering passion fueled by the prospect of finding life beyond Earth. One evening, amidst the cacophony of interstellar noise, a faint yet distinct pattern emerged on his monitor. It originated from a distant star system, a place designated Mxi123. The data, though cryptic, held the undeniable signature of intelligence. Meanwhile, across the bustling metropolis of Mumbai, Rani, a renowned botanist with a heart as verdant as the rainforests she studied, was captivated by a peculiar anomaly in her lab. A seemingly ordinary seed, gifted to her by a visiting professor, exhibited an otherworldly resilience. It thrived under conditions that would have destroyed any terrestrial plant life. This anomaly\n",
            "================================================================\n",
            "[Document 1]\n",
            "It thrived under conditions that would have destroyed any terrestrial plant life. This anomaly sparked a fascination within Rani, a yearning to unravel the secrets it held. Unbeknownst to each other, Raja and Rani were on a collision course with destiny. Raja, his spirit ablaze with scientific fervor, convinced a consortium of investors to fund a daring mission to Mxi123. Rani, her curiosity piqued by the alien seed, volunteered as the mission's botanist, hoping to study its origins firsthand. The journey to Mxi123 was fraught with peril. The colossal vessel, christened Akashvani (celestial messenger), hurtled through the abyss, dodging meteor showers and navigating treacherous wormholes. The crew, a motley assemblage of scientists, engineers, and security personnel, bonded over shared anxieties and the thrill of the unknown. Raja and Rani, drawn together by their intellectual pursuits and a quiet sense of wonder, found solace in each other's company. Chapter 2: Landing on Mxi123\n",
            "================================================================\n",
            "[Document 2]\n",
            "and a quiet sense of wonder, found solace in each other's company. Chapter 2: Landing on Mxi123 After a voyage that stretched for months, Akashvani emerged from the final wormhole, greeted by a sight that defied imagination. Mxi123 was a breathtaking tapestry of vibrant hues. Glowing flora, unlike anything seen on Earth, carpeted the landscape. Towering crystalline structures, shimmering with an otherworldly luminescence, pierced the lavender sky. The air thrummed with an unseen energy, a symphony of chirps and hums emanating from the alien ecosystem. The landing was a tense affair. The alien terrain, a kaleidoscope of bioluminescent flora and crystalline formations, presented a series of unforeseen challenges. Yet, the crew, their skills honed by months of rigorous training, managed to navigate the treacherous landscape and establish a rudimentary base camp.\n",
            "================================================================\n",
            "[Document 15]\n",
            "by Raja, began to replace fossil fuels at an unprecedented rate. The Earth, once on the brink of ecological collapse, started to heal. Chapter 12: Reunion Under the Stars Years passed, filled with tireless work and a constant yearning for each other. Raja, at the forefront of the global sustainability movement, became a beacon of hope for a greener future. Rani, leading the Earth-Mxi project, witnessed her dreams of a cleaner Earth coming to fruition. One momentous day, a groundbreaking discovery shook the scientific community. Scientists detected a faint but distinct signal emanating from Mxi123, a message encoded with a familiar pattern. It was a plea for help. Without hesitation, a new mission to Mxi123 was assembled. This time, Raja and Rani, their love story a symbol of unity and hope, stood at the helm. As the Akashvani once again pierced the cosmic veil, they knew this journey was not just a scientific expedition, but a testament to the enduring power of love that transcended\n",
            "================================================================\n",
            "[Document -1]\n",
            "Epilogue: A Future Forged Under a Billion Stars The future remained uncertain, filled with new challenges and untold possibilities. Yet, as Raja and Rani landed on Mxi123, hand in hand, they knew that together, they could face anything. The universe, once a vast and unknowable canvas, now held the promise of a future where humanity, guided by love and scientific innovation, could forge a destiny of harmony with itself and the cosmos.\n",
            "================================================================\n"
          ]
        }
      ]
    },
    {
      "cell_type": "code",
      "source": [
        "pdf_chunks = [i.page_content for i in pdf_splits]"
      ],
      "metadata": {
        "id": "BzY6HVSeunlr"
      },
      "execution_count": 29,
      "outputs": []
    },
    {
      "cell_type": "code",
      "source": [
        "from langchain_core.runnables import RunnableLambda\n",
        "from langchain_core.runnables.passthrough import RunnableAssign\n",
        "from langchain_core.prompts import ChatPromptTemplate\n",
        "from langchain_core.output_parsers import StrOutputParser\n",
        "from langchain.output_parsers import PydanticOutputParser\n",
        "\n",
        "\n",
        "from langchain_core.pydantic_v1 import BaseModel, Field\n",
        "from typing import List\n",
        "\n",
        "from IPython.display import clear_output\n",
        "\n",
        "class DocumentSummaryBase(BaseModel):\n",
        "    running_summary: str = Field(\"\", description=\"Running description of the document. Do not override; only update!\")\n",
        "    main_ideas: List[str] = Field([], description=\"Most important information from the document (max 3)\")\n",
        "    loose_ends: List[str] = Field([], description=\"Open questions that would be good to incorporate into summary, but that are yet unknown (max 3)\")\n",
        "\n",
        "\n",
        "summary_prompt = ChatPromptTemplate.from_template(\n",
        "    \"You are generating a running summary of a story. Make it readable by a technical user.\"\n",
        "    \" After this, the old knowledge base will be replaced by the new one. Make sure a reader can still understand everything.\"\n",
        "    \" Keep it short, but as dense and useful as possible! The information should flow from chunk to (loose ends or main ideas) to running_summary.\"\n",
        "    \" The updated knowledge base keep all of the information from running_summary here: {info_base}.\"\n",
        "    \"\\n\\n{format_instructions}. Follow the format precisely, including quotations and commas\"\n",
        "    \"\\n\\nWithout losing any of the info, update the knowledge base with the following: {input}\"\n",
        ")"
      ],
      "metadata": {
        "id": "UPeFuoaXZgDS"
      },
      "execution_count": 20,
      "outputs": []
    },
    {
      "cell_type": "code",
      "source": [
        "def RExtract(pydantic_class, llm, prompt):\n",
        "    '''\n",
        "    Runnable Extraction module\n",
        "    Returns a knowledge dictionary populated by slot-filling extraction\n",
        "    '''\n",
        "    parser = PydanticOutputParser(pydantic_object=pydantic_class)\n",
        "    instruct_merge = RunnableAssign({'format_instructions' : lambda x: parser.get_format_instructions()})\n",
        "    def preparse(string):\n",
        "        if '{' not in string: string = '{' + string\n",
        "        if '}' not in string: string = string + '}'\n",
        "        string = (string\n",
        "            .replace(\"\\\\_\", \"_\")\n",
        "            .replace(\"\\n\", \" \")\n",
        "            .replace(\"\\]\", \"]\")\n",
        "            .replace(\"\\[\", \"[\")\n",
        "        )\n",
        "        # print(string)  ## Good for diagnostics\n",
        "        return string\n",
        "    return instruct_merge | prompt | llm | preparse | parser"
      ],
      "metadata": {
        "id": "UAzLEG1SjDr4"
      },
      "execution_count": 21,
      "outputs": []
    },
    {
      "cell_type": "code",
      "source": [
        "from rich.console import Console\n",
        "from rich.style import Style\n",
        "from rich.theme import Theme\n",
        "from functools import partial\n",
        "\n",
        "console = Console()\n",
        "base_style = Style(color=\"#76B900\", bold=True)\n",
        "pprint = partial(console.print, style=base_style)"
      ],
      "metadata": {
        "id": "fD41bGA5j_MC"
      },
      "execution_count": 22,
      "outputs": []
    },
    {
      "cell_type": "code",
      "source": [
        "latest_sumar = \"\"\n",
        "\n",
        "def RSummarizer(knowledge, llm, prompt, verbose=False):\n",
        "    def summarize_docs(docs):\n",
        "        parse_chain = RunnableAssign({'info_base' : RExtract(knowledge.__class__, llm, prompt)})\n",
        "        state = {'info_base' : knowledge}\n",
        "\n",
        "        global latest_summary\n",
        "\n",
        "        for i, doc in enumerate(docs):\n",
        "            state['input'] = doc.page_content\n",
        "            state = parse_chain.invoke(state)\n",
        "            assert 'info_base' in state\n",
        "            if verbose:\n",
        "                print(f\"Considered {i+1} documents\")\n",
        "                pprint(state['info_base'])\n",
        "                latest_summary = state['info_base']\n",
        "                clear_output(wait=True)\n",
        "        return state['info_base']\n",
        "    return RunnableLambda(summarize_docs)\n",
        "\n",
        "\n",
        "instruct_model = ChatNVIDIA(model=\"mistralai/mixtral-8x22b-instruct-v0.1\").bind(max_tokens=4096)\n",
        "instruct_llm = instruct_model | StrOutputParser()\n",
        "\n",
        "## Take the first 5 document chunks and accumulate a DocumentSummaryBase\n",
        "summarizer = RSummarizer(DocumentSummaryBase(), instruct_llm, summary_prompt, verbose=True)\n",
        "summary = summarizer.invoke(pdf_splits[:5])"
      ],
      "metadata": {
        "colab": {
          "base_uri": "https://localhost:8080/",
          "height": 487
        },
        "id": "ZquUuEPNjHXw",
        "outputId": "8a1677f6-4ebc-4926-a07e-1accc566afb2"
      },
      "execution_count": 23,
      "outputs": [
        {
          "output_type": "stream",
          "name": "stdout",
          "text": [
            "Considered 5 documents\n"
          ]
        },
        {
          "output_type": "display_data",
          "data": {
            "text/plain": [
              "\u001b[1;35mDocumentSummaryBase\u001b[0m\u001b[1;38;2;118;185;0m(\u001b[0m\n",
              "\u001b[1;38;2;118;185;0m    \u001b[0m\u001b[1;33mrunning_summary\u001b[0m\u001b[1;38;2;118;185;0m=\u001b[0m\u001b[32m\"Raja\u001b[0m\u001b[32m, an astrophysicist, and Rani, a botanist, are on the verge of groundbreaking discoveries.\u001b[0m\n",
              "\u001b[32mRaja has discovered an intelligent life signature from a distant star system, Mxi123. Rani is studying a peculiar \u001b[0m\n",
              "\u001b[32mseed that thrives under extreme conditions that would destroy any terrestrial plant life. Unaware of their \u001b[0m\n",
              "\u001b[32mconnection, both embark on a mission to Mxi123 aboard the spaceship Akashvani. Upon arrival, Rani discovers that \u001b[0m\n",
              "\u001b[32mthe alien plants on Mxi123 possess a unique genetic code, one that resonates with the strange seed she had been \u001b[0m\n",
              "\u001b[32mstudying back on Earth. This revelation fuels a theory – could there be a connection between Earth and Mxi123? \u001b[0m\n",
              "\u001b[32mMeanwhile, Raja's team discovers holographic recordings within the crystalline structures on Mxi123. These \u001b[0m\n",
              "\u001b[32mrecordings depict a humanoid species, the Mxians, revealing a dire message – their world is dying due to an \u001b[0m\n",
              "\u001b[32mecological catastrophe of their own making. This discovery serves as a stark reminder of the delicate balance of \u001b[0m\n",
              "\u001b[32mecosystems and the potential consequences of unchecked exploitation. Guided by a newfound sense of urgency, Raja \u001b[0m\n",
              "\u001b[32mand his team devise a plan using the advanced capabilities of the Akashvani.\"\u001b[0m\u001b[1;38;2;118;185;0m,\u001b[0m\n",
              "\u001b[1;38;2;118;185;0m    \u001b[0m\u001b[1;33mmain_ideas\u001b[0m\u001b[1;38;2;118;185;0m=\u001b[0m\u001b[1;38;2;118;185;0m[\u001b[0m\n",
              "\u001b[1;38;2;118;185;0m        \u001b[0m\u001b[32m'The alien plants on Mxi123 possess a unique genetic code that resonates with a peculiar seed Rani had been\u001b[0m\n",
              "\u001b[32mstudying on Earth, sparking the theory of a connection between Earth and Mxi123.'\u001b[0m\u001b[1;38;2;118;185;0m,\u001b[0m\n",
              "\u001b[1;38;2;118;185;0m        \u001b[0m\u001b[32m\"Raja's team discovers holographic recordings within crystalline structures on Mxi123, depicting a humanoid\u001b[0m\n",
              "\u001b[32mspecies, the Mxians, and a dire message about their dying world due to an ecological catastrophe.\"\u001b[0m\u001b[1;38;2;118;185;0m,\u001b[0m\n",
              "\u001b[1;38;2;118;185;0m        \u001b[0m\u001b[32m'With a newfound urgency, Raja and his team devise a plan using the advanced capabilities of the \u001b[0m\n",
              "\u001b[32mAkashvani.'\u001b[0m\n",
              "\u001b[1;38;2;118;185;0m    \u001b[0m\u001b[1;38;2;118;185;0m]\u001b[0m\u001b[1;38;2;118;185;0m,\u001b[0m\n",
              "\u001b[1;38;2;118;185;0m    \u001b[0m\u001b[1;33mloose_ends\u001b[0m\u001b[1;38;2;118;185;0m=\u001b[0m\u001b[1;38;2;118;185;0m[\u001b[0m\n",
              "\u001b[1;38;2;118;185;0m        \u001b[0m\u001b[32m'How does the unique genetic code of the alien plants on Mxi123 function and contribute to the potential \u001b[0m\n",
              "\u001b[32mconnection with Earth?'\u001b[0m\u001b[1;38;2;118;185;0m,\u001b[0m\n",
              "\u001b[1;38;2;118;185;0m        \u001b[0m\u001b[32m'What specific actions can Raja and his team take to help the Mxians address their ecological crisis?'\u001b[0m\u001b[1;38;2;118;185;0m,\u001b[0m\n",
              "\u001b[1;38;2;118;185;0m        \u001b[0m\u001b[32m'Will further exploration on Mxi123 reveal more about the origin or potential resolution of the ecological \u001b[0m\n",
              "\u001b[32mcatastrophe?'\u001b[0m\n",
              "\u001b[1;38;2;118;185;0m    \u001b[0m\u001b[1;38;2;118;185;0m]\u001b[0m\n",
              "\u001b[1;38;2;118;185;0m)\u001b[0m\n"
            ],
            "text/html": [
              "<pre style=\"white-space:pre;overflow-x:auto;line-height:normal;font-family:Menlo,'DejaVu Sans Mono',consolas,'Courier New',monospace\"><span style=\"color: #800080; text-decoration-color: #800080; font-weight: bold\">DocumentSummaryBase</span><span style=\"color: #76b900; text-decoration-color: #76b900; font-weight: bold\">(</span>\n",
              "<span style=\"color: #76b900; text-decoration-color: #76b900; font-weight: bold\">    </span><span style=\"color: #808000; text-decoration-color: #808000; font-weight: bold\">running_summary</span><span style=\"color: #76b900; text-decoration-color: #76b900; font-weight: bold\">=</span><span style=\"color: #008000; text-decoration-color: #008000\">\"Raja, an astrophysicist, and Rani, a botanist, are on the verge of groundbreaking discoveries.</span>\n",
              "<span style=\"color: #008000; text-decoration-color: #008000\">Raja has discovered an intelligent life signature from a distant star system, Mxi123. Rani is studying a peculiar </span>\n",
              "<span style=\"color: #008000; text-decoration-color: #008000\">seed that thrives under extreme conditions that would destroy any terrestrial plant life. Unaware of their </span>\n",
              "<span style=\"color: #008000; text-decoration-color: #008000\">connection, both embark on a mission to Mxi123 aboard the spaceship Akashvani. Upon arrival, Rani discovers that </span>\n",
              "<span style=\"color: #008000; text-decoration-color: #008000\">the alien plants on Mxi123 possess a unique genetic code, one that resonates with the strange seed she had been </span>\n",
              "<span style=\"color: #008000; text-decoration-color: #008000\">studying back on Earth. This revelation fuels a theory – could there be a connection between Earth and Mxi123? </span>\n",
              "<span style=\"color: #008000; text-decoration-color: #008000\">Meanwhile, Raja's team discovers holographic recordings within the crystalline structures on Mxi123. These </span>\n",
              "<span style=\"color: #008000; text-decoration-color: #008000\">recordings depict a humanoid species, the Mxians, revealing a dire message – their world is dying due to an </span>\n",
              "<span style=\"color: #008000; text-decoration-color: #008000\">ecological catastrophe of their own making. This discovery serves as a stark reminder of the delicate balance of </span>\n",
              "<span style=\"color: #008000; text-decoration-color: #008000\">ecosystems and the potential consequences of unchecked exploitation. Guided by a newfound sense of urgency, Raja </span>\n",
              "<span style=\"color: #008000; text-decoration-color: #008000\">and his team devise a plan using the advanced capabilities of the Akashvani.\"</span><span style=\"color: #76b900; text-decoration-color: #76b900; font-weight: bold\">,</span>\n",
              "<span style=\"color: #76b900; text-decoration-color: #76b900; font-weight: bold\">    </span><span style=\"color: #808000; text-decoration-color: #808000; font-weight: bold\">main_ideas</span><span style=\"color: #76b900; text-decoration-color: #76b900; font-weight: bold\">=[</span>\n",
              "<span style=\"color: #76b900; text-decoration-color: #76b900; font-weight: bold\">        </span><span style=\"color: #008000; text-decoration-color: #008000\">'The alien plants on Mxi123 possess a unique genetic code that resonates with a peculiar seed Rani had been</span>\n",
              "<span style=\"color: #008000; text-decoration-color: #008000\">studying on Earth, sparking the theory of a connection between Earth and Mxi123.'</span><span style=\"color: #76b900; text-decoration-color: #76b900; font-weight: bold\">,</span>\n",
              "<span style=\"color: #76b900; text-decoration-color: #76b900; font-weight: bold\">        </span><span style=\"color: #008000; text-decoration-color: #008000\">\"Raja's team discovers holographic recordings within crystalline structures on Mxi123, depicting a humanoid</span>\n",
              "<span style=\"color: #008000; text-decoration-color: #008000\">species, the Mxians, and a dire message about their dying world due to an ecological catastrophe.\"</span><span style=\"color: #76b900; text-decoration-color: #76b900; font-weight: bold\">,</span>\n",
              "<span style=\"color: #76b900; text-decoration-color: #76b900; font-weight: bold\">        </span><span style=\"color: #008000; text-decoration-color: #008000\">'With a newfound urgency, Raja and his team devise a plan using the advanced capabilities of the </span>\n",
              "<span style=\"color: #008000; text-decoration-color: #008000\">Akashvani.'</span>\n",
              "<span style=\"color: #76b900; text-decoration-color: #76b900; font-weight: bold\">    ],</span>\n",
              "<span style=\"color: #76b900; text-decoration-color: #76b900; font-weight: bold\">    </span><span style=\"color: #808000; text-decoration-color: #808000; font-weight: bold\">loose_ends</span><span style=\"color: #76b900; text-decoration-color: #76b900; font-weight: bold\">=[</span>\n",
              "<span style=\"color: #76b900; text-decoration-color: #76b900; font-weight: bold\">        </span><span style=\"color: #008000; text-decoration-color: #008000\">'How does the unique genetic code of the alien plants on Mxi123 function and contribute to the potential </span>\n",
              "<span style=\"color: #008000; text-decoration-color: #008000\">connection with Earth?'</span><span style=\"color: #76b900; text-decoration-color: #76b900; font-weight: bold\">,</span>\n",
              "<span style=\"color: #76b900; text-decoration-color: #76b900; font-weight: bold\">        </span><span style=\"color: #008000; text-decoration-color: #008000\">'What specific actions can Raja and his team take to help the Mxians address their ecological crisis?'</span><span style=\"color: #76b900; text-decoration-color: #76b900; font-weight: bold\">,</span>\n",
              "<span style=\"color: #76b900; text-decoration-color: #76b900; font-weight: bold\">        </span><span style=\"color: #008000; text-decoration-color: #008000\">'Will further exploration on Mxi123 reveal more about the origin or potential resolution of the ecological </span>\n",
              "<span style=\"color: #008000; text-decoration-color: #008000\">catastrophe?'</span>\n",
              "<span style=\"color: #76b900; text-decoration-color: #76b900; font-weight: bold\">    ]</span>\n",
              "<span style=\"color: #76b900; text-decoration-color: #76b900; font-weight: bold\">)</span>\n",
              "</pre>\n"
            ]
          },
          "metadata": {}
        }
      ]
    },
    {
      "cell_type": "code",
      "source": [],
      "metadata": {
        "colab": {
          "base_uri": "https://localhost:8080/"
        },
        "id": "09yBt_bPjM3Q",
        "outputId": "4a890d81-54d6-4ba0-d8c3-90fa1c33735a"
      },
      "execution_count": 24,
      "outputs": [
        {
          "output_type": "stream",
          "name": "stderr",
          "text": [
            "/usr/local/lib/python3.10/dist-packages/langchain_nvidia_ai_endpoints/_statics.py:319: UserWarning: Model nvolveqa_40k is deprecated. Using NV-Embed-QA instead.\n",
            "  warnings.warn(\n",
            "/usr/local/lib/python3.10/dist-packages/langchain_nvidia_ai_endpoints/embeddings.py:87: UserWarning: Setting truncate=\"END\" for nvolveqa_40k backward compatibility\n",
            "  warnings.warn(\n"
          ]
        }
      ]
    },
    {
      "cell_type": "code",
      "source": [
        "!pip install faiss-gpu"
      ],
      "metadata": {
        "colab": {
          "base_uri": "https://localhost:8080/"
        },
        "id": "mQ_PSzpvu0TS",
        "outputId": "9362c3c9-3cef-42ed-baa6-3461bacbac86"
      },
      "execution_count": 31,
      "outputs": [
        {
          "output_type": "stream",
          "name": "stdout",
          "text": [
            "Collecting faiss-gpu\n",
            "  Downloading faiss_gpu-1.7.2-cp310-cp310-manylinux_2_17_x86_64.manylinux2014_x86_64.whl (85.5 MB)\n",
            "\u001b[2K     \u001b[90m━━━━━━━━━━━━━━━━━━━━━━━━━━━━━━━━━━━━━━━━\u001b[0m \u001b[32m85.5/85.5 MB\u001b[0m \u001b[31m6.7 MB/s\u001b[0m eta \u001b[36m0:00:00\u001b[0m\n",
            "\u001b[?25hInstalling collected packages: faiss-gpu\n",
            "Successfully installed faiss-gpu-1.7.2\n"
          ]
        }
      ]
    },
    {
      "cell_type": "code",
      "source": [
        "from langchain_nvidia_ai_endpoints import NVIDIAEmbeddings\n",
        "from langchain.vectorstores import FAISS\n",
        "\n",
        "embedder = NVIDIAEmbeddings(model=\"nvolveqa_40k\")\n",
        "\n",
        "convstore = FAISS.from_texts(pdf_chunks, embedding=embedder)\n",
        "retriever = convstore.as_retriever()"
      ],
      "metadata": {
        "colab": {
          "base_uri": "https://localhost:8080/"
        },
        "id": "rbXj3GoHtb7M",
        "outputId": "bff8244b-3356-425c-85bf-6fdb9bd50489"
      },
      "execution_count": 32,
      "outputs": [
        {
          "output_type": "stream",
          "name": "stderr",
          "text": [
            "/usr/local/lib/python3.10/dist-packages/langchain_nvidia_ai_endpoints/_statics.py:319: UserWarning: Model nvolveqa_40k is deprecated. Using NV-Embed-QA instead.\n",
            "  warnings.warn(\n",
            "/usr/local/lib/python3.10/dist-packages/langchain_nvidia_ai_endpoints/embeddings.py:87: UserWarning: Setting truncate=\"END\" for nvolveqa_40k backward compatibility\n",
            "  warnings.warn(\n"
          ]
        }
      ]
    },
    {
      "cell_type": "code",
      "source": [
        "pprint(retriever.invoke('Who are raja and rani?'))"
      ],
      "metadata": {
        "colab": {
          "base_uri": "https://localhost:8080/",
          "height": 680
        },
        "id": "5nxyCOauuDvk",
        "outputId": "333ce8fb-fd4d-4ad4-e0ba-2dd2206aab28"
      },
      "execution_count": 33,
      "outputs": [
        {
          "output_type": "display_data",
          "data": {
            "text/plain": [
              "\u001b[1;38;2;118;185;0m[\u001b[0m\n",
              "\u001b[1;38;2;118;185;0m    \u001b[0m\u001b[1;35mDocument\u001b[0m\u001b[1;38;2;118;185;0m(\u001b[0m\n",
              "\u001b[1;38;2;118;185;0m        \u001b[0m\u001b[1;33mpage_content\u001b[0m\u001b[1;38;2;118;185;0m=\u001b[0m\u001b[32m'Epilogue: A Future Forged Under a Billion Stars The future remained uncertain, filled with \u001b[0m\n",
              "\u001b[32mnew challenges and untold possibilities. Yet, as Raja and Rani landed on Mxi123, hand in hand, they knew that \u001b[0m\n",
              "\u001b[32mtogether, they could face anything. The universe, once a vast and unknowable canvas, now held the promise of a \u001b[0m\n",
              "\u001b[32mfuture where humanity, guided by love and scientific innovation, could forge a destiny of harmony with itself and \u001b[0m\n",
              "\u001b[32mthe cosmos.'\u001b[0m\n",
              "\u001b[1;38;2;118;185;0m    \u001b[0m\u001b[1;38;2;118;185;0m)\u001b[0m\u001b[1;38;2;118;185;0m,\u001b[0m\n",
              "\u001b[1;38;2;118;185;0m    \u001b[0m\u001b[1;35mDocument\u001b[0m\u001b[1;38;2;118;185;0m(\u001b[0m\n",
              "\u001b[1;38;2;118;185;0m        \u001b[0m\u001b[1;33mpage_content\u001b[0m\u001b[1;38;2;118;185;0m=\u001b[0m\u001b[32m\"It\u001b[0m\u001b[32m thrived under conditions that would have destroyed any terrestrial plant life. This \u001b[0m\n",
              "\u001b[32manomaly sparked a fascination within Rani, a yearning to unravel the secrets it held. Unbeknownst to each other, \u001b[0m\n",
              "\u001b[32mRaja and Rani were on a collision course with destiny. Raja, his spirit ablaze with scientific fervor, convinced a \u001b[0m\n",
              "\u001b[32mconsortium of investors to fund a daring mission to Mxi123. Rani, her curiosity piqued by the alien seed, \u001b[0m\n",
              "\u001b[32mvolunteered as the mission's botanist, hoping to study its origins firsthand. The journey to Mxi123 was fraught \u001b[0m\n",
              "\u001b[32mwith peril. The colossal vessel, christened Akashvani \u001b[0m\u001b[32m(\u001b[0m\u001b[32mcelestial messenger\u001b[0m\u001b[32m)\u001b[0m\u001b[32m, hurtled through the abyss, dodging \u001b[0m\n",
              "\u001b[32mmeteor showers and navigating treacherous wormholes. The crew, a motley assemblage of scientists, engineers, and \u001b[0m\n",
              "\u001b[32msecurity personnel, bonded over shared anxieties and the thrill of the unknown. Raja and Rani, drawn together by \u001b[0m\n",
              "\u001b[32mtheir intellectual pursuits and a quiet sense of wonder, found solace in each other's company. Chapter 2: Landing \u001b[0m\n",
              "\u001b[32mon Mxi123\"\u001b[0m\n",
              "\u001b[1;38;2;118;185;0m    \u001b[0m\u001b[1;38;2;118;185;0m)\u001b[0m\u001b[1;38;2;118;185;0m,\u001b[0m\n",
              "\u001b[1;38;2;118;185;0m    \u001b[0m\u001b[1;35mDocument\u001b[0m\u001b[1;38;2;118;185;0m(\u001b[0m\n",
              "\u001b[1;38;2;118;185;0m        \u001b[0m\u001b[1;33mpage_content\u001b[0m\u001b[1;38;2;118;185;0m=\u001b[0m\u001b[32m'whisper, a single tear tracing a glistening path down her cheek. Raja, his gaze reflecting \u001b[0m\n",
              "\u001b[32mthe same fervent hope, squeezed her hand. \"The universe conspired to bring us together,\" he replied, his voice \u001b[0m\n",
              "\u001b[32mthick with emotion. \"It won\\'t let us stay apart for long.\" A holographic projection of the Mxian leader \u001b[0m\n",
              "\u001b[32mmaterialized beside them. Through their newly established communication system, he expressed their deepest \u001b[0m\n",
              "\u001b[32mgratitude for the crew\\'s assistance and their hope for continued collaboration. As the Akashvani readied for \u001b[0m\n",
              "\u001b[32mliftoff, a parting gift from the Mxians materialized – a single seed, identical to the one Rani had brought with \u001b[0m\n",
              "\u001b[32mthem. This seed, the Mxians explained, held the potential to adapt to Earth\\'s environment, a symbol of their \u001b[0m\n",
              "\u001b[32mshared future and a reminder of the lessons learned on Mxi123.'\u001b[0m\n",
              "\u001b[1;38;2;118;185;0m    \u001b[0m\u001b[1;38;2;118;185;0m)\u001b[0m\u001b[1;38;2;118;185;0m,\u001b[0m\n",
              "\u001b[1;38;2;118;185;0m    \u001b[0m\u001b[1;35mDocument\u001b[0m\u001b[1;38;2;118;185;0m(\u001b[0m\n",
              "\u001b[1;38;2;118;185;0m        \u001b[0m\u001b[1;33mpage_content\u001b[0m\u001b[1;38;2;118;185;0m=\u001b[0m\u001b[32m\"The\u001b[0m\u001b[32m alien plant, thriving in the Mxian environment, began to work its magic. The polluted air\u001b[0m\n",
              "\u001b[32mbegan to clear, replaced by a faint but perceptible tang of freshness. The once-barren soil teemed with renewed \u001b[0m\n",
              "\u001b[32mlife, nourished by the plant's cleansing properties. The Mxians, their initial skepticism replaced by elation, \u001b[0m\n",
              "\u001b[32mexpressed their gratitude through a dazzling display of bioluminescent lights, a silent symphony of appreciation. \u001b[0m\n",
              "\u001b[32mChapter 7: A Love Story Blossoms Amidst the momentous events unfolding on Mxi123, a love story blossomed between \u001b[0m\n",
              "\u001b[32mRaja and Rani. Their shared passion for science, their unwavering dedication to the mission, and the breathtaking \u001b[0m\n",
              "\u001b[32mbeauty of their alien surroundings fostered a deep connection. Under the lavender sky of Mxi123, amidst the hum of \u001b[0m\n",
              "\u001b[32malien flora, they found solace and inspiration in each other's company.\"\u001b[0m\n",
              "\u001b[1;38;2;118;185;0m    \u001b[0m\u001b[1;38;2;118;185;0m)\u001b[0m\n",
              "\u001b[1;38;2;118;185;0m]\u001b[0m\n"
            ],
            "text/html": [
              "<pre style=\"white-space:pre;overflow-x:auto;line-height:normal;font-family:Menlo,'DejaVu Sans Mono',consolas,'Courier New',monospace\"><span style=\"color: #76b900; text-decoration-color: #76b900; font-weight: bold\">[</span>\n",
              "<span style=\"color: #76b900; text-decoration-color: #76b900; font-weight: bold\">    </span><span style=\"color: #800080; text-decoration-color: #800080; font-weight: bold\">Document</span><span style=\"color: #76b900; text-decoration-color: #76b900; font-weight: bold\">(</span>\n",
              "<span style=\"color: #76b900; text-decoration-color: #76b900; font-weight: bold\">        </span><span style=\"color: #808000; text-decoration-color: #808000; font-weight: bold\">page_content</span><span style=\"color: #76b900; text-decoration-color: #76b900; font-weight: bold\">=</span><span style=\"color: #008000; text-decoration-color: #008000\">'Epilogue: A Future Forged Under a Billion Stars The future remained uncertain, filled with </span>\n",
              "<span style=\"color: #008000; text-decoration-color: #008000\">new challenges and untold possibilities. Yet, as Raja and Rani landed on Mxi123, hand in hand, they knew that </span>\n",
              "<span style=\"color: #008000; text-decoration-color: #008000\">together, they could face anything. The universe, once a vast and unknowable canvas, now held the promise of a </span>\n",
              "<span style=\"color: #008000; text-decoration-color: #008000\">future where humanity, guided by love and scientific innovation, could forge a destiny of harmony with itself and </span>\n",
              "<span style=\"color: #008000; text-decoration-color: #008000\">the cosmos.'</span>\n",
              "<span style=\"color: #76b900; text-decoration-color: #76b900; font-weight: bold\">    ),</span>\n",
              "<span style=\"color: #76b900; text-decoration-color: #76b900; font-weight: bold\">    </span><span style=\"color: #800080; text-decoration-color: #800080; font-weight: bold\">Document</span><span style=\"color: #76b900; text-decoration-color: #76b900; font-weight: bold\">(</span>\n",
              "<span style=\"color: #76b900; text-decoration-color: #76b900; font-weight: bold\">        </span><span style=\"color: #808000; text-decoration-color: #808000; font-weight: bold\">page_content</span><span style=\"color: #76b900; text-decoration-color: #76b900; font-weight: bold\">=</span><span style=\"color: #008000; text-decoration-color: #008000\">\"It thrived under conditions that would have destroyed any terrestrial plant life. This </span>\n",
              "<span style=\"color: #008000; text-decoration-color: #008000\">anomaly sparked a fascination within Rani, a yearning to unravel the secrets it held. Unbeknownst to each other, </span>\n",
              "<span style=\"color: #008000; text-decoration-color: #008000\">Raja and Rani were on a collision course with destiny. Raja, his spirit ablaze with scientific fervor, convinced a </span>\n",
              "<span style=\"color: #008000; text-decoration-color: #008000\">consortium of investors to fund a daring mission to Mxi123. Rani, her curiosity piqued by the alien seed, </span>\n",
              "<span style=\"color: #008000; text-decoration-color: #008000\">volunteered as the mission's botanist, hoping to study its origins firsthand. The journey to Mxi123 was fraught </span>\n",
              "<span style=\"color: #008000; text-decoration-color: #008000\">with peril. The colossal vessel, christened Akashvani (celestial messenger), hurtled through the abyss, dodging </span>\n",
              "<span style=\"color: #008000; text-decoration-color: #008000\">meteor showers and navigating treacherous wormholes. The crew, a motley assemblage of scientists, engineers, and </span>\n",
              "<span style=\"color: #008000; text-decoration-color: #008000\">security personnel, bonded over shared anxieties and the thrill of the unknown. Raja and Rani, drawn together by </span>\n",
              "<span style=\"color: #008000; text-decoration-color: #008000\">their intellectual pursuits and a quiet sense of wonder, found solace in each other's company. Chapter 2: Landing </span>\n",
              "<span style=\"color: #008000; text-decoration-color: #008000\">on Mxi123\"</span>\n",
              "<span style=\"color: #76b900; text-decoration-color: #76b900; font-weight: bold\">    ),</span>\n",
              "<span style=\"color: #76b900; text-decoration-color: #76b900; font-weight: bold\">    </span><span style=\"color: #800080; text-decoration-color: #800080; font-weight: bold\">Document</span><span style=\"color: #76b900; text-decoration-color: #76b900; font-weight: bold\">(</span>\n",
              "<span style=\"color: #76b900; text-decoration-color: #76b900; font-weight: bold\">        </span><span style=\"color: #808000; text-decoration-color: #808000; font-weight: bold\">page_content</span><span style=\"color: #76b900; text-decoration-color: #76b900; font-weight: bold\">=</span><span style=\"color: #008000; text-decoration-color: #008000\">'whisper, a single tear tracing a glistening path down her cheek. Raja, his gaze reflecting </span>\n",
              "<span style=\"color: #008000; text-decoration-color: #008000\">the same fervent hope, squeezed her hand. \"The universe conspired to bring us together,\" he replied, his voice </span>\n",
              "<span style=\"color: #008000; text-decoration-color: #008000\">thick with emotion. \"It won\\'t let us stay apart for long.\" A holographic projection of the Mxian leader </span>\n",
              "<span style=\"color: #008000; text-decoration-color: #008000\">materialized beside them. Through their newly established communication system, he expressed their deepest </span>\n",
              "<span style=\"color: #008000; text-decoration-color: #008000\">gratitude for the crew\\'s assistance and their hope for continued collaboration. As the Akashvani readied for </span>\n",
              "<span style=\"color: #008000; text-decoration-color: #008000\">liftoff, a parting gift from the Mxians materialized – a single seed, identical to the one Rani had brought with </span>\n",
              "<span style=\"color: #008000; text-decoration-color: #008000\">them. This seed, the Mxians explained, held the potential to adapt to Earth\\'s environment, a symbol of their </span>\n",
              "<span style=\"color: #008000; text-decoration-color: #008000\">shared future and a reminder of the lessons learned on Mxi123.'</span>\n",
              "<span style=\"color: #76b900; text-decoration-color: #76b900; font-weight: bold\">    ),</span>\n",
              "<span style=\"color: #76b900; text-decoration-color: #76b900; font-weight: bold\">    </span><span style=\"color: #800080; text-decoration-color: #800080; font-weight: bold\">Document</span><span style=\"color: #76b900; text-decoration-color: #76b900; font-weight: bold\">(</span>\n",
              "<span style=\"color: #76b900; text-decoration-color: #76b900; font-weight: bold\">        </span><span style=\"color: #808000; text-decoration-color: #808000; font-weight: bold\">page_content</span><span style=\"color: #76b900; text-decoration-color: #76b900; font-weight: bold\">=</span><span style=\"color: #008000; text-decoration-color: #008000\">\"The alien plant, thriving in the Mxian environment, began to work its magic. The polluted air</span>\n",
              "<span style=\"color: #008000; text-decoration-color: #008000\">began to clear, replaced by a faint but perceptible tang of freshness. The once-barren soil teemed with renewed </span>\n",
              "<span style=\"color: #008000; text-decoration-color: #008000\">life, nourished by the plant's cleansing properties. The Mxians, their initial skepticism replaced by elation, </span>\n",
              "<span style=\"color: #008000; text-decoration-color: #008000\">expressed their gratitude through a dazzling display of bioluminescent lights, a silent symphony of appreciation. </span>\n",
              "<span style=\"color: #008000; text-decoration-color: #008000\">Chapter 7: A Love Story Blossoms Amidst the momentous events unfolding on Mxi123, a love story blossomed between </span>\n",
              "<span style=\"color: #008000; text-decoration-color: #008000\">Raja and Rani. Their shared passion for science, their unwavering dedication to the mission, and the breathtaking </span>\n",
              "<span style=\"color: #008000; text-decoration-color: #008000\">beauty of their alien surroundings fostered a deep connection. Under the lavender sky of Mxi123, amidst the hum of </span>\n",
              "<span style=\"color: #008000; text-decoration-color: #008000\">alien flora, they found solace and inspiration in each other's company.\"</span>\n",
              "<span style=\"color: #76b900; text-decoration-color: #76b900; font-weight: bold\">    )</span>\n",
              "<span style=\"color: #76b900; text-decoration-color: #76b900; font-weight: bold\">]</span>\n",
              "</pre>\n"
            ]
          },
          "metadata": {}
        }
      ]
    },
    {
      "cell_type": "code",
      "source": [
        "from langchain.document_transformers import LongContextReorder\n",
        "\n",
        "def RPrint(preface=\"\"):\n",
        "    \"\"\"Simple passthrough \"prints, then returns\" chain\"\"\"\n",
        "    def print_and_return(x, preface):\n",
        "        print(f\"{preface}{x}\")\n",
        "        return x\n",
        "    return RunnableLambda(partial(print_and_return, preface=preface))\n",
        "\n",
        "def docs2str(docs, title=\"Document\"):\n",
        "    \"\"\"Useful utility for making chunks into context string. Optional, but useful\"\"\"\n",
        "    out_str = \"\"\n",
        "    for doc in docs:\n",
        "        doc_name = getattr(doc, 'metadata', {}).get('Title', title)\n",
        "        if doc_name:\n",
        "            out_str += f\"[Quote from {doc_name}] \"\n",
        "        out_str += getattr(doc, 'page_content', str(doc)) + \"\\n\"\n",
        "    return out_str\n",
        "\n",
        "\n",
        "long_reorder = RunnableLambda(LongContextReorder().transform_documents)\n",
        "\n",
        "context_prompt = ChatPromptTemplate.from_messages([\n",
        "    ('system',\n",
        "        \"Answer the question using only the context\"\n",
        "        \"\\n\\nQuestion: {question}\\n\\nContext: {context}\" ## Double reinforcement\n",
        "    ), ('user', \"{question}\"),\n",
        "])\n",
        "\n",
        "\n",
        "chain = (\n",
        "    {\n",
        "        'context': convstore.as_retriever() | long_reorder | docs2str,\n",
        "        'question': (lambda x:x)\n",
        "    }\n",
        "    | context_prompt\n",
        "    # | RPrint()\n",
        "    | chat_llm\n",
        "    | StrOutputParser()\n",
        ")\n",
        "\n",
        "pprint(chain.invoke(\"Where does Raja live?\"))"
      ],
      "metadata": {
        "colab": {
          "base_uri": "https://localhost:8080/",
          "height": 49
        },
        "id": "4AAt9JIZvBWy",
        "outputId": "2ae2ca61-613e-4236-b723-3c89e94c5248"
      },
      "execution_count": 42,
      "outputs": [
        {
          "output_type": "display_data",
          "data": {
            "text/plain": [
              "\u001b[1;38;2;118;185;0mThe context does not explicitly mention where Raja lives. It talks about Raja being on Mxi123 \u001b[0m\u001b[1;38;2;118;185;0m(\u001b[0m\u001b[1;38;2;118;185;0man alien planet\u001b[0m\u001b[1;38;2;118;185;0m)\u001b[0m\u001b[1;38;2;118;185;0m \u001b[0m\n",
              "\u001b[1;38;2;118;185;0mwith his crew, but it does not mention his place of residence on Earth or any other planet.\u001b[0m\n"
            ],
            "text/html": [
              "<pre style=\"white-space:pre;overflow-x:auto;line-height:normal;font-family:Menlo,'DejaVu Sans Mono',consolas,'Courier New',monospace\"><span style=\"color: #76b900; text-decoration-color: #76b900; font-weight: bold\">The context does not explicitly mention where Raja lives. It talks about Raja being on Mxi123 (an alien planet) </span>\n",
              "<span style=\"color: #76b900; text-decoration-color: #76b900; font-weight: bold\">with his crew, but it does not mention his place of residence on Earth or any other planet.</span>\n",
              "</pre>\n"
            ]
          },
          "metadata": {}
        }
      ]
    },
    {
      "cell_type": "code",
      "source": [
        "pprint(chain.invoke('Who is Raja? What is his mission?'))"
      ],
      "metadata": {
        "colab": {
          "base_uri": "https://localhost:8080/",
          "height": 49
        },
        "id": "nA55TF6xvVmz",
        "outputId": "e78be7c8-9dac-42c5-bc5f-665317f46700"
      },
      "execution_count": 43,
      "outputs": [
        {
          "output_type": "display_data",
          "data": {
            "text/plain": [
              "\u001b[1;38;2;118;185;0mRaja is a scientist driven by scientific fervor and curiosity. His mission is to lead an exploration of the planet \u001b[0m\n",
              "\u001b[1;38;2;118;185;0mMxi123, alongside Rani, a botanist.\u001b[0m\n"
            ],
            "text/html": [
              "<pre style=\"white-space:pre;overflow-x:auto;line-height:normal;font-family:Menlo,'DejaVu Sans Mono',consolas,'Courier New',monospace\"><span style=\"color: #76b900; text-decoration-color: #76b900; font-weight: bold\">Raja is a scientist driven by scientific fervor and curiosity. His mission is to lead an exploration of the planet </span>\n",
              "<span style=\"color: #76b900; text-decoration-color: #76b900; font-weight: bold\">Mxi123, alongside Rani, a botanist.</span>\n",
              "</pre>\n"
            ]
          },
          "metadata": {}
        }
      ]
    },
    {
      "cell_type": "code",
      "source": [
        "# Automatic Conversation Storage\n",
        "def save_memory_and_get_output(d, vstore):\n",
        "    \"\"\"Accepts 'input'/'output' dictionary and saves to convstore\"\"\"\n",
        "    vstore.add_texts([f\"User said {d.get('input')}\", f\"Agent said {d.get('output')}\"])\n",
        "    return d.get('output')\n",
        "\n",
        "\n",
        "chat_prompt = ChatPromptTemplate.from_messages([(\"system\",\n",
        "    \"A user has asked a question: {input}\\n\\n Context: \\n{context}\\n\\n\"\n",
        "    \"Please continue the conversation by responding! Keep it brief and conversational!\"\n",
        "), ('user', '{input}')])\n",
        "\n",
        "conv_chain = (\n",
        "    {\n",
        "        'context': convstore.as_retriever() | long_reorder | docs2str,\n",
        "        'input': (lambda x:x)\n",
        "    }\n",
        "    | RunnableAssign({'output' : chat_prompt | chat_llm})\n",
        "    | partial(save_memory_and_get_output, vstore=convstore)\n",
        ")\n",
        "\n",
        "# pprint(conv_chain.invoke('Where does Rani leaves?').content)\n",
        "\n",
        "max_q = 10\n",
        "print('Starting Your Portal . . . [Please say Adios to quit!!]')\n",
        "for _ in range(max_q):\n",
        "    msg = input(\"User::\")\n",
        "    if msg == 'Adios':\n",
        "      break\n",
        "    print('Agent::')\n",
        "    pprint(conv_chain.invoke(msg).content)\n",
        "    print('='*64)\n",
        "\n"
      ],
      "metadata": {
        "colab": {
          "base_uri": "https://localhost:8080/",
          "height": 652
        },
        "id": "PbfpiPR0vw1A",
        "outputId": "8a540ab2-02a8-440b-ee14-03b31bcb214c"
      },
      "execution_count": 46,
      "outputs": [
        {
          "metadata": {
            "tags": null
          },
          "name": "stdout",
          "output_type": "stream",
          "text": [
            "Starting Your Portal . . . [Please say Adios to quit!!]\n",
            "Agent::\n"
          ]
        },
        {
          "data": {
            "text/html": [
              "<pre style=\"white-space:pre;overflow-x:auto;line-height:normal;font-family:Menlo,'DejaVu Sans Mono',consolas,'Courier New',monospace\"><span style=\"color: #76b900; text-decoration-color: #76b900; font-weight: bold\">Raja is one of the two main characters in the story. He's a scientist driven by scientific fervor and curiosity. </span>\n",
              "<span style=\"color: #76b900; text-decoration-color: #76b900; font-weight: bold\">His mission is to lead an expedition to explore the planet Mxi123, alongside Rani, his fellow scientist and love </span>\n",
              "<span style=\"color: #76b900; text-decoration-color: #76b900; font-weight: bold\">interest.</span>\n",
              "</pre>\n"
            ],
            "text/plain": [
              "\u001b[1;38;2;118;185;0mRaja is one of the two main characters in the story. He's a scientist driven by scientific fervor and curiosity. \u001b[0m\n",
              "\u001b[1;38;2;118;185;0mHis mission is to lead an expedition to explore the planet Mxi123, alongside Rani, his fellow scientist and love \u001b[0m\n",
              "\u001b[1;38;2;118;185;0minterest.\u001b[0m\n"
            ]
          },
          "metadata": {},
          "output_type": "display_data"
        },
        {
          "metadata": {
            "tags": null
          },
          "name": "stdout",
          "output_type": "stream",
          "text": [
            "================================================================\n",
            "Agent::\n"
          ]
        },
        {
          "data": {
            "text/html": [
              "<pre style=\"white-space:pre;overflow-x:auto;line-height:normal;font-family:Menlo,'DejaVu Sans Mono',consolas,'Courier New',monospace\"><span style=\"color: #76b900; text-decoration-color: #76b900; font-weight: bold\">Mxi123 is a distant star system that's central to the story. It's a place of great importance, especially for Raja,</span>\n",
              "<span style=\"color: #76b900; text-decoration-color: #76b900; font-weight: bold\">the astrophysicist, and Rani, the botanist. Apparently, it's home to some extraordinary life forms and advanced </span>\n",
              "<span style=\"color: #76b900; text-decoration-color: #76b900; font-weight: bold\">technology. There's even a humanoid species, the Mxians, who are facing an ecological catastrophe. The story </span>\n",
              "<span style=\"color: #76b900; text-decoration-color: #76b900; font-weight: bold\">revolves around Raja and Rani's journey to Mxi123, where they unravel its secrets and discover a deeper connection </span>\n",
              "<span style=\"color: #76b900; text-decoration-color: #76b900; font-weight: bold\">between Earth and this mysterious planet.</span>\n",
              "</pre>\n"
            ],
            "text/plain": [
              "\u001b[1;38;2;118;185;0mMxi123 is a distant star system that's central to the story. It's a place of great importance, especially for Raja,\u001b[0m\n",
              "\u001b[1;38;2;118;185;0mthe astrophysicist, and Rani, the botanist. Apparently, it's home to some extraordinary life forms and advanced \u001b[0m\n",
              "\u001b[1;38;2;118;185;0mtechnology. There's even a humanoid species, the Mxians, who are facing an ecological catastrophe. The story \u001b[0m\n",
              "\u001b[1;38;2;118;185;0mrevolves around Raja and Rani's journey to Mxi123, where they unravel its secrets and discover a deeper connection \u001b[0m\n",
              "\u001b[1;38;2;118;185;0mbetween Earth and this mysterious planet.\u001b[0m\n"
            ]
          },
          "metadata": {},
          "output_type": "display_data"
        },
        {
          "metadata": {
            "tags": null
          },
          "name": "stdout",
          "output_type": "stream",
          "text": [
            "================================================================\n",
            "Agent::\n"
          ]
        },
        {
          "data": {
            "text/html": [
              "<pre style=\"white-space:pre;overflow-x:auto;line-height:normal;font-family:Menlo,'DejaVu Sans Mono',consolas,'Courier New',monospace\"><span style=\"color: #76b900; text-decoration-color: #76b900; font-weight: bold\">You just asked about Mxi123!</span>\n",
              "</pre>\n"
            ],
            "text/plain": [
              "\u001b[1;38;2;118;185;0mYou just asked about Mxi123!\u001b[0m\n"
            ]
          },
          "metadata": {},
          "output_type": "display_data"
        },
        {
          "metadata": {
            "tags": null
          },
          "name": "stdout",
          "output_type": "stream",
          "text": [
            "================================================================\n",
            "Agent::\n"
          ]
        },
        {
          "data": {
            "text/html": [
              "<pre style=\"white-space:pre;overflow-x:auto;line-height:normal;font-family:Menlo,'DejaVu Sans Mono',consolas,'Courier New',monospace\"><span style=\"color: #76b900; text-decoration-color: #76b900; font-weight: bold\">This conversation just started! You didn't ask anything before asking what Mxi123 is.</span>\n",
              "</pre>\n"
            ],
            "text/plain": [
              "\u001b[1;38;2;118;185;0mThis conversation just started! You didn't ask anything before asking what Mxi123 is.\u001b[0m\n"
            ]
          },
          "metadata": {},
          "output_type": "display_data"
        },
        {
          "metadata": {
            "tags": null
          },
          "name": "stdout",
          "output_type": "stream",
          "text": [
            "================================================================\n",
            "Agent::\n"
          ]
        },
        {
          "data": {
            "text/html": [
              "<pre style=\"white-space:pre;overflow-x:auto;line-height:normal;font-family:Menlo,'DejaVu Sans Mono',consolas,'Courier New',monospace\"><span style=\"color: #76b900; text-decoration-color: #76b900; font-weight: bold\">It seems like you've provided a mathematical equation, </span><span style=\"color: #008000; text-decoration-color: #008000\">\"a = 2\"</span><span style=\"color: #76b900; text-decoration-color: #76b900; font-weight: bold\">. However, I'm not sure how it relates to the </span>\n",
              "<span style=\"color: #76b900; text-decoration-color: #76b900; font-weight: bold\">provided context about the story of Raja and Rani exploring the planet Mxi123. Could you please clarify or provide </span>\n",
              "<span style=\"color: #76b900; text-decoration-color: #76b900; font-weight: bold\">more information about what you're trying to convey or ask?</span>\n",
              "</pre>\n"
            ],
            "text/plain": [
              "\u001b[1;38;2;118;185;0mIt seems like you've provided a mathematical equation, \u001b[0m\u001b[32m\"a = 2\"\u001b[0m\u001b[1;38;2;118;185;0m. However, I'm not sure how it relates to the \u001b[0m\n",
              "\u001b[1;38;2;118;185;0mprovided context about the story of Raja and Rani exploring the planet Mxi123. Could you please clarify or provide \u001b[0m\n",
              "\u001b[1;38;2;118;185;0mmore information about what you're trying to convey or ask?\u001b[0m\n"
            ]
          },
          "metadata": {},
          "output_type": "display_data"
        },
        {
          "metadata": {
            "tags": null
          },
          "name": "stdout",
          "output_type": "stream",
          "text": [
            "================================================================\n",
            "Agent::\n"
          ]
        },
        {
          "data": {
            "text/html": [
              "<pre style=\"white-space:pre;overflow-x:auto;line-height:normal;font-family:Menlo,'DejaVu Sans Mono',consolas,'Courier New',monospace\"><span style=\"color: #76b900; text-decoration-color: #76b900; font-weight: bold\">I think there might be some confusion here! You provided another mathematical equation, </span><span style=\"color: #008000; text-decoration-color: #008000\">\"b = 2\"</span><span style=\"color: #76b900; text-decoration-color: #76b900; font-weight: bold\">, but I'm still not </span>\n",
              "<span style=\"color: #76b900; text-decoration-color: #76b900; font-weight: bold\">sure how it relates to the story of Raja and Rani exploring the planet Mxi123. Could you please clarify or provide </span>\n",
              "<span style=\"color: #76b900; text-decoration-color: #76b900; font-weight: bold\">more context about what you're trying to convey or ask?</span>\n",
              "</pre>\n"
            ],
            "text/plain": [
              "\u001b[1;38;2;118;185;0mI think there might be some confusion here! You provided another mathematical equation, \u001b[0m\u001b[32m\"b = 2\"\u001b[0m\u001b[1;38;2;118;185;0m, but I'm still not \u001b[0m\n",
              "\u001b[1;38;2;118;185;0msure how it relates to the story of Raja and Rani exploring the planet Mxi123. Could you please clarify or provide \u001b[0m\n",
              "\u001b[1;38;2;118;185;0mmore context about what you're trying to convey or ask?\u001b[0m\n"
            ]
          },
          "metadata": {},
          "output_type": "display_data"
        },
        {
          "metadata": {
            "tags": null
          },
          "name": "stdout",
          "output_type": "stream",
          "text": [
            "================================================================\n",
            "Agent::\n"
          ]
        },
        {
          "data": {
            "text/html": [
              "<pre style=\"white-space:pre;overflow-x:auto;line-height:normal;font-family:Menlo,'DejaVu Sans Mono',consolas,'Courier New',monospace\"><span style=\"color: #76b900; text-decoration-color: #76b900; font-weight: bold\">I think we've got a pattern going on here! You've told me that a = </span><span style=\"color: #008080; text-decoration-color: #008080; font-weight: bold\">2</span><span style=\"color: #76b900; text-decoration-color: #76b900; font-weight: bold\"> and b = </span><span style=\"color: #008080; text-decoration-color: #008080; font-weight: bold\">2</span><span style=\"color: #76b900; text-decoration-color: #76b900; font-weight: bold\">, but I'm still not seeing how this </span>\n",
              "<span style=\"color: #76b900; text-decoration-color: #76b900; font-weight: bold\">relates to Raja and Rani's adventure on planet Mxi123. Could you please fill in the blanks and tell me what's going</span>\n",
              "<span style=\"color: #76b900; text-decoration-color: #76b900; font-weight: bold\">on with z? Is there an equation or problem you're trying to solve?</span>\n",
              "</pre>\n"
            ],
            "text/plain": [
              "\u001b[1;38;2;118;185;0mI think we've got a pattern going on here! You've told me that a = \u001b[0m\u001b[1;36m2\u001b[0m\u001b[1;38;2;118;185;0m and b = \u001b[0m\u001b[1;36m2\u001b[0m\u001b[1;38;2;118;185;0m, but I'm still not seeing how this \u001b[0m\n",
              "\u001b[1;38;2;118;185;0mrelates to Raja and Rani's adventure on planet Mxi123. Could you please fill in the blanks and tell me what's going\u001b[0m\n",
              "\u001b[1;38;2;118;185;0mon with z? Is there an equation or problem you're trying to solve?\u001b[0m\n"
            ]
          },
          "metadata": {},
          "output_type": "display_data"
        },
        {
          "metadata": {
            "tags": null
          },
          "name": "stdout",
          "output_type": "stream",
          "text": [
            "================================================================\n",
            "Agent::\n"
          ]
        },
        {
          "data": {
            "text/html": [
              "<pre style=\"white-space:pre;overflow-x:auto;line-height:normal;font-family:Menlo,'DejaVu Sans Mono',consolas,'Courier New',monospace\"><span style=\"color: #76b900; text-decoration-color: #76b900; font-weight: bold\">You mentioned earlier that a = </span><span style=\"color: #008080; text-decoration-color: #008080; font-weight: bold\">2</span><span style=\"color: #76b900; text-decoration-color: #76b900; font-weight: bold\">, so the value of a is indeed </span><span style=\"color: #008080; text-decoration-color: #008080; font-weight: bold\">2</span><span style=\"color: #76b900; text-decoration-color: #76b900; font-weight: bold\">!</span>\n",
              "</pre>\n"
            ],
            "text/plain": [
              "\u001b[1;38;2;118;185;0mYou mentioned earlier that a = \u001b[0m\u001b[1;36m2\u001b[0m\u001b[1;38;2;118;185;0m, so the value of a is indeed \u001b[0m\u001b[1;36m2\u001b[0m\u001b[1;38;2;118;185;0m!\u001b[0m\n"
            ]
          },
          "metadata": {},
          "output_type": "display_data"
        },
        {
          "name": "stdout",
          "output_type": "stream",
          "text": [
            "================================================================\n",
            "User::Adios\n"
          ]
        }
      ]
    },
    {
      "cell_type": "code",
      "source": [],
      "metadata": {
        "id": "woDNncT0xVEX"
      },
      "execution_count": null,
      "outputs": []
    }
  ]
}